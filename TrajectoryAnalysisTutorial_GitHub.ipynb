{
 "cells": [
  {
   "cell_type": "markdown",
   "id": "1dc3bd23",
   "metadata": {},
   "source": [
    "# Trajectory Analysis using 10x Single Cell Gene Expression Data\n",
    "More details on this analysis can be found in the 10x Genomics Analysis Guides tutorial, located here: https://www.10xgenomics.com/resources/analysis-guides/trajectory-analysis-using-10x-Genomics-single-cell-gene-expression-data"
   ]
  },
  {
   "cell_type": "markdown",
   "id": "1e026de3",
   "metadata": {},
   "source": [
    "June 28, 2022"
   ]
  },
  {
   "cell_type": "markdown",
   "id": "79da6e17",
   "metadata": {},
   "source": [
    "This will install the required Python library packages needed for this tutorial:"
   ]
  },
  {
   "cell_type": "code",
   "execution_count": null,
   "id": "346184d0",
   "metadata": {},
   "outputs": [],
   "source": [
    "!pip install numpy==1.19.2 pandas==1.1.5 matplotlib===3.3.4 scanpy==1.7.2 igraph==0.9.8 scvelo==0.2.4 loompy==3.0.6 anndata==0.7.8"
   ]
  },
  {
   "cell_type": "markdown",
   "id": "b1c03f27",
   "metadata": {},
   "source": [
    "This will create a new directory called \"input-files\", then download and extract several input data files needed for this tutorial, then display the list of files now available."
   ]
  },
  {
   "cell_type": "code",
   "execution_count": null,
   "id": "474eeeb0",
   "metadata": {},
   "outputs": [],
   "source": [
    "!mkdir input-files\n",
    "!curl -o input-files/filtered_feature_bc_matrix.tar.gz https://cf.10xgenomics.com/supp/cell-exp/neutrophils/filtered_feature_bc_matrix.tar.gz\n",
    "!curl -o input-files/WB_Lysis_3p_Introns_8kCells.loom https://cf.10xgenomics.com/supp/cell-exp/neutrophils/WB_Lysis_3p_Introns_8kCells.loom\n",
    "!curl -o input-files/3p-Neutrophils-clusters.csv https://cf.10xgenomics.com/supp/cell-exp/neutrophils/3p-Neutrophils-clusters.csv\n",
    "!curl -o input-files/3p-Neutrophils-UMAP-Projection.csv https://cf.10xgenomics.com/supp/cell-exp/neutrophils/3p-Neutrophils-UMAP-Projection.\n",
    "!tar -xvzf input-files/filtered_feature_bc_matrix.tar.gz -C input-files/\n",
    "!ls -lah input-files"
   ]
  },
  {
   "cell_type": "code",
   "execution_count": 3,
   "id": "b605db86",
   "metadata": {},
   "outputs": [],
   "source": [
    "# First, import required packages in the current session.\n",
    "\n",
    "import numpy as np\n",
    "import pandas as pd\n",
    "import matplotlib.pyplot as pl\n",
    "import scanpy as sc\n",
    "import igraph\n",
    "import scvelo as scv\n",
    "import loompy as lmp\n",
    "import anndata\n",
    "\n",
    "import warnings\n",
    "warnings.filterwarnings('ignore')"
   ]
  },
  {
   "cell_type": "markdown",
   "id": "73c4d6d6",
   "metadata": {},
   "source": [
    "This chunk of code below is used to customize colors for the cluster and plot sizes"
   ]
  },
  {
   "cell_type": "code",
   "execution_count": 4,
   "id": "5bc6705f",
   "metadata": {},
   "outputs": [],
   "source": [
    "# Customize parameters for plots (Size, Color, etc)\n",
    "scv.set_figure_params(style=\"scvelo\")\n",
    "pl.rcParams[\"figure.figsize\"] = (10,10)\n",
    "Colorss=[\"#E41A1C\",\"#377EB8\",\"#4DAF4A\",\"#984EA3\",\"#FF7F00\",\"#FFFF33\",\"#A65628\",\"#F781BF\"]"
   ]
  },
  {
   "cell_type": "markdown",
   "id": "c88d565a",
   "metadata": {},
   "source": [
    "Import the GEX matrix along with the clusters and UMAP embeddings from Loupe.\n",
    "\n"
   ]
  },
  {
   "cell_type": "code",
   "execution_count": 5,
   "id": "1eb7f657",
   "metadata": {
    "scrolled": true
   },
   "outputs": [
    {
     "data": {
      "text/plain": [
       "AnnData object with n_obs × n_vars = 8000 × 36601 \n",
       "    var: 'gene_ids', 'feature_types'"
      ]
     },
     "execution_count": 5,
     "metadata": {},
     "output_type": "execute_result"
    }
   ],
   "source": [
    "# Define Path to cellranger output\n",
    "Path10x='./input-files/filtered_feature_bc_matrix/'\n",
    "\n",
    "# Read cellranger output\n",
    "Neutro3p = sc.read_10x_mtx(Path10x,var_names='gene_symbols',cache=True)\n",
    "\n",
    "Neutro3p"
   ]
  },
  {
   "cell_type": "code",
   "execution_count": 6,
   "id": "8a0ba395",
   "metadata": {},
   "outputs": [
    {
     "ename": "KeyError",
     "evalue": "\"None of [Index(['AAACCCAGTTGTGCAT-1', 'AAACGAACAATTGCGT-1', 'AAACGCTTCGAGTCCG-1',\\n       'AAAGAACAGCGACTAG-1', 'AAAGAACAGTCGAGGT-1', 'AAAGAACCACTGCACG-1',\\n       'AAAGAACCAGTGCGCT-1', 'AAAGAACTCAGCTCTC-1', 'AAAGGATAGGAGCTGT-1',\\n       'AAAGGATCACCCAAGC-1',\\n       ...\\n       'TTTGGAGTCGCGTTTC-1', 'TTTGGAGTCGTTCTAT-1', 'TTTGGTTAGTAGTCCT-1',\\n       'TTTGGTTCAATAGTAG-1', 'TTTGGTTTCGAACGCC-1', 'TTTGTTGAGTAAGCAT-1',\\n       'TTTGTTGCAACCAACT-1', 'TTTGTTGTCGAGTACT-1', 'TTTGTTGTCGCTACAA-1',\\n       'TTTGTTGTCTTCGCTG-1'],\\n      dtype='object', name='Barcode', length=3343)] are in the [index]\"",
     "output_type": "error",
     "traceback": [
      "\u001b[0;31m---------------------------------------------------------------------------\u001b[0m",
      "\u001b[0;31mKeyError\u001b[0m                                  Traceback (most recent call last)",
      "\u001b[0;32m<ipython-input-6-96274f274c0d>\u001b[0m in \u001b[0;36m<module>\u001b[0;34m\u001b[0m\n\u001b[1;32m      9\u001b[0m \u001b[0;34m\u001b[0m\u001b[0m\n\u001b[1;32m     10\u001b[0m \u001b[0;31m# Select Neutrophil Barcodes\u001b[0m\u001b[0;34m\u001b[0m\u001b[0;34m\u001b[0m\u001b[0;34m\u001b[0m\u001b[0m\n\u001b[0;32m---> 11\u001b[0;31m \u001b[0mUMAP_Loupe\u001b[0m \u001b[0;34m=\u001b[0m \u001b[0mUMAP_Loupe\u001b[0m\u001b[0;34m.\u001b[0m\u001b[0mloc\u001b[0m\u001b[0;34m[\u001b[0m\u001b[0mNeutrophils_BCs\u001b[0m\u001b[0;34m,\u001b[0m\u001b[0;34m]\u001b[0m\u001b[0;34m\u001b[0m\u001b[0;34m\u001b[0m\u001b[0m\n\u001b[0m\u001b[1;32m     12\u001b[0m \u001b[0;34m\u001b[0m\u001b[0m\n\u001b[1;32m     13\u001b[0m \u001b[0;31m# Tansform to Numpy\u001b[0m\u001b[0;34m\u001b[0m\u001b[0;34m\u001b[0m\u001b[0;34m\u001b[0m\u001b[0m\n",
      "\u001b[0;32m~/miniconda3/envs/jupyter.py3/lib/python3.7/site-packages/pandas/core/indexing.py\u001b[0m in \u001b[0;36m__getitem__\u001b[0;34m(self, key)\u001b[0m\n\u001b[1;32m   1416\u001b[0m                 \u001b[0;32mexcept\u001b[0m \u001b[0;34m(\u001b[0m\u001b[0mKeyError\u001b[0m\u001b[0;34m,\u001b[0m \u001b[0mIndexError\u001b[0m\u001b[0;34m,\u001b[0m \u001b[0mAttributeError\u001b[0m\u001b[0;34m)\u001b[0m\u001b[0;34m:\u001b[0m\u001b[0;34m\u001b[0m\u001b[0;34m\u001b[0m\u001b[0m\n\u001b[1;32m   1417\u001b[0m                     \u001b[0;32mpass\u001b[0m\u001b[0;34m\u001b[0m\u001b[0;34m\u001b[0m\u001b[0m\n\u001b[0;32m-> 1418\u001b[0;31m             \u001b[0;32mreturn\u001b[0m \u001b[0mself\u001b[0m\u001b[0;34m.\u001b[0m\u001b[0m_getitem_tuple\u001b[0m\u001b[0;34m(\u001b[0m\u001b[0mkey\u001b[0m\u001b[0;34m)\u001b[0m\u001b[0;34m\u001b[0m\u001b[0;34m\u001b[0m\u001b[0m\n\u001b[0m\u001b[1;32m   1419\u001b[0m         \u001b[0;32melse\u001b[0m\u001b[0;34m:\u001b[0m\u001b[0;34m\u001b[0m\u001b[0;34m\u001b[0m\u001b[0m\n\u001b[1;32m   1420\u001b[0m             \u001b[0;31m# we by definition only have the 0th axis\u001b[0m\u001b[0;34m\u001b[0m\u001b[0;34m\u001b[0m\u001b[0;34m\u001b[0m\u001b[0m\n",
      "\u001b[0;32m~/miniconda3/envs/jupyter.py3/lib/python3.7/site-packages/pandas/core/indexing.py\u001b[0m in \u001b[0;36m_getitem_tuple\u001b[0;34m(self, tup)\u001b[0m\n\u001b[1;32m    812\u001b[0m         \u001b[0;31m# ugly hack for GH #836\u001b[0m\u001b[0;34m\u001b[0m\u001b[0;34m\u001b[0m\u001b[0;34m\u001b[0m\u001b[0m\n\u001b[1;32m    813\u001b[0m         \u001b[0;32mif\u001b[0m \u001b[0mself\u001b[0m\u001b[0;34m.\u001b[0m\u001b[0m_multi_take_opportunity\u001b[0m\u001b[0;34m(\u001b[0m\u001b[0mtup\u001b[0m\u001b[0;34m)\u001b[0m\u001b[0;34m:\u001b[0m\u001b[0;34m\u001b[0m\u001b[0;34m\u001b[0m\u001b[0m\n\u001b[0;32m--> 814\u001b[0;31m             \u001b[0;32mreturn\u001b[0m \u001b[0mself\u001b[0m\u001b[0;34m.\u001b[0m\u001b[0m_multi_take\u001b[0m\u001b[0;34m(\u001b[0m\u001b[0mtup\u001b[0m\u001b[0;34m)\u001b[0m\u001b[0;34m\u001b[0m\u001b[0;34m\u001b[0m\u001b[0m\n\u001b[0m\u001b[1;32m    815\u001b[0m \u001b[0;34m\u001b[0m\u001b[0m\n\u001b[1;32m    816\u001b[0m         \u001b[0;31m# no shortcut needed\u001b[0m\u001b[0;34m\u001b[0m\u001b[0;34m\u001b[0m\u001b[0;34m\u001b[0m\u001b[0m\n",
      "\u001b[0;32m~/miniconda3/envs/jupyter.py3/lib/python3.7/site-packages/pandas/core/indexing.py\u001b[0m in \u001b[0;36m_multi_take\u001b[0;34m(self, tup)\u001b[0m\n\u001b[1;32m    867\u001b[0m         d = {\n\u001b[1;32m    868\u001b[0m             \u001b[0maxis\u001b[0m\u001b[0;34m:\u001b[0m \u001b[0mself\u001b[0m\u001b[0;34m.\u001b[0m\u001b[0m_get_listlike_indexer\u001b[0m\u001b[0;34m(\u001b[0m\u001b[0mkey\u001b[0m\u001b[0;34m,\u001b[0m \u001b[0maxis\u001b[0m\u001b[0;34m)\u001b[0m\u001b[0;34m\u001b[0m\u001b[0;34m\u001b[0m\u001b[0m\n\u001b[0;32m--> 869\u001b[0;31m             \u001b[0;32mfor\u001b[0m \u001b[0;34m(\u001b[0m\u001b[0mkey\u001b[0m\u001b[0;34m,\u001b[0m \u001b[0maxis\u001b[0m\u001b[0;34m)\u001b[0m \u001b[0;32min\u001b[0m \u001b[0mzip\u001b[0m\u001b[0;34m(\u001b[0m\u001b[0mtup\u001b[0m\u001b[0;34m,\u001b[0m \u001b[0mo\u001b[0m\u001b[0;34m.\u001b[0m\u001b[0m_AXIS_ORDERS\u001b[0m\u001b[0;34m)\u001b[0m\u001b[0;34m\u001b[0m\u001b[0;34m\u001b[0m\u001b[0m\n\u001b[0m\u001b[1;32m    870\u001b[0m         }\n\u001b[1;32m    871\u001b[0m         \u001b[0;32mreturn\u001b[0m \u001b[0mo\u001b[0m\u001b[0;34m.\u001b[0m\u001b[0m_reindex_with_indexers\u001b[0m\u001b[0;34m(\u001b[0m\u001b[0md\u001b[0m\u001b[0;34m,\u001b[0m \u001b[0mcopy\u001b[0m\u001b[0;34m=\u001b[0m\u001b[0;32mTrue\u001b[0m\u001b[0;34m,\u001b[0m \u001b[0mallow_dups\u001b[0m\u001b[0;34m=\u001b[0m\u001b[0;32mTrue\u001b[0m\u001b[0;34m)\u001b[0m\u001b[0;34m\u001b[0m\u001b[0;34m\u001b[0m\u001b[0m\n",
      "\u001b[0;32m~/miniconda3/envs/jupyter.py3/lib/python3.7/site-packages/pandas/core/indexing.py\u001b[0m in \u001b[0;36m<dictcomp>\u001b[0;34m(.0)\u001b[0m\n\u001b[1;32m    867\u001b[0m         d = {\n\u001b[1;32m    868\u001b[0m             \u001b[0maxis\u001b[0m\u001b[0;34m:\u001b[0m \u001b[0mself\u001b[0m\u001b[0;34m.\u001b[0m\u001b[0m_get_listlike_indexer\u001b[0m\u001b[0;34m(\u001b[0m\u001b[0mkey\u001b[0m\u001b[0;34m,\u001b[0m \u001b[0maxis\u001b[0m\u001b[0;34m)\u001b[0m\u001b[0;34m\u001b[0m\u001b[0;34m\u001b[0m\u001b[0m\n\u001b[0;32m--> 869\u001b[0;31m             \u001b[0;32mfor\u001b[0m \u001b[0;34m(\u001b[0m\u001b[0mkey\u001b[0m\u001b[0;34m,\u001b[0m \u001b[0maxis\u001b[0m\u001b[0;34m)\u001b[0m \u001b[0;32min\u001b[0m \u001b[0mzip\u001b[0m\u001b[0;34m(\u001b[0m\u001b[0mtup\u001b[0m\u001b[0;34m,\u001b[0m \u001b[0mo\u001b[0m\u001b[0;34m.\u001b[0m\u001b[0m_AXIS_ORDERS\u001b[0m\u001b[0;34m)\u001b[0m\u001b[0;34m\u001b[0m\u001b[0;34m\u001b[0m\u001b[0m\n\u001b[0m\u001b[1;32m    870\u001b[0m         }\n\u001b[1;32m    871\u001b[0m         \u001b[0;32mreturn\u001b[0m \u001b[0mo\u001b[0m\u001b[0;34m.\u001b[0m\u001b[0m_reindex_with_indexers\u001b[0m\u001b[0;34m(\u001b[0m\u001b[0md\u001b[0m\u001b[0;34m,\u001b[0m \u001b[0mcopy\u001b[0m\u001b[0;34m=\u001b[0m\u001b[0;32mTrue\u001b[0m\u001b[0;34m,\u001b[0m \u001b[0mallow_dups\u001b[0m\u001b[0;34m=\u001b[0m\u001b[0;32mTrue\u001b[0m\u001b[0;34m)\u001b[0m\u001b[0;34m\u001b[0m\u001b[0;34m\u001b[0m\u001b[0m\n",
      "\u001b[0;32m~/miniconda3/envs/jupyter.py3/lib/python3.7/site-packages/pandas/core/indexing.py\u001b[0m in \u001b[0;36m_get_listlike_indexer\u001b[0;34m(self, key, axis, raise_missing)\u001b[0m\n\u001b[1;32m   1090\u001b[0m \u001b[0;34m\u001b[0m\u001b[0m\n\u001b[1;32m   1091\u001b[0m         self._validate_read_indexer(\n\u001b[0;32m-> 1092\u001b[0;31m             \u001b[0mkeyarr\u001b[0m\u001b[0;34m,\u001b[0m \u001b[0mindexer\u001b[0m\u001b[0;34m,\u001b[0m \u001b[0mo\u001b[0m\u001b[0;34m.\u001b[0m\u001b[0m_get_axis_number\u001b[0m\u001b[0;34m(\u001b[0m\u001b[0maxis\u001b[0m\u001b[0;34m)\u001b[0m\u001b[0;34m,\u001b[0m \u001b[0mraise_missing\u001b[0m\u001b[0;34m=\u001b[0m\u001b[0mraise_missing\u001b[0m\u001b[0;34m\u001b[0m\u001b[0;34m\u001b[0m\u001b[0m\n\u001b[0m\u001b[1;32m   1093\u001b[0m         )\n\u001b[1;32m   1094\u001b[0m         \u001b[0;32mreturn\u001b[0m \u001b[0mkeyarr\u001b[0m\u001b[0;34m,\u001b[0m \u001b[0mindexer\u001b[0m\u001b[0;34m\u001b[0m\u001b[0;34m\u001b[0m\u001b[0m\n",
      "\u001b[0;32m~/miniconda3/envs/jupyter.py3/lib/python3.7/site-packages/pandas/core/indexing.py\u001b[0m in \u001b[0;36m_validate_read_indexer\u001b[0;34m(self, key, indexer, axis, raise_missing)\u001b[0m\n\u001b[1;32m   1175\u001b[0m                 raise KeyError(\n\u001b[1;32m   1176\u001b[0m                     \"None of [{key}] are in the [{axis}]\".format(\n\u001b[0;32m-> 1177\u001b[0;31m                         \u001b[0mkey\u001b[0m\u001b[0;34m=\u001b[0m\u001b[0mkey\u001b[0m\u001b[0;34m,\u001b[0m \u001b[0maxis\u001b[0m\u001b[0;34m=\u001b[0m\u001b[0mself\u001b[0m\u001b[0;34m.\u001b[0m\u001b[0mobj\u001b[0m\u001b[0;34m.\u001b[0m\u001b[0m_get_axis_name\u001b[0m\u001b[0;34m(\u001b[0m\u001b[0maxis\u001b[0m\u001b[0;34m)\u001b[0m\u001b[0;34m\u001b[0m\u001b[0;34m\u001b[0m\u001b[0m\n\u001b[0m\u001b[1;32m   1178\u001b[0m                     )\n\u001b[1;32m   1179\u001b[0m                 )\n",
      "\u001b[0;31mKeyError\u001b[0m: \"None of [Index(['AAACCCAGTTGTGCAT-1', 'AAACGAACAATTGCGT-1', 'AAACGCTTCGAGTCCG-1',\\n       'AAAGAACAGCGACTAG-1', 'AAAGAACAGTCGAGGT-1', 'AAAGAACCACTGCACG-1',\\n       'AAAGAACCAGTGCGCT-1', 'AAAGAACTCAGCTCTC-1', 'AAAGGATAGGAGCTGT-1',\\n       'AAAGGATCACCCAAGC-1',\\n       ...\\n       'TTTGGAGTCGCGTTTC-1', 'TTTGGAGTCGTTCTAT-1', 'TTTGGTTAGTAGTCCT-1',\\n       'TTTGGTTCAATAGTAG-1', 'TTTGGTTTCGAACGCC-1', 'TTTGTTGAGTAAGCAT-1',\\n       'TTTGTTGCAACCAACT-1', 'TTTGTTGTCGAGTACT-1', 'TTTGTTGTCGCTACAA-1',\\n       'TTTGTTGTCTTCGCTG-1'],\\n      dtype='object', name='Barcode', length=3343)] are in the [index]\""
     ]
    }
   ],
   "source": [
    "# Read Clusters exported from Loupe Browser \n",
    "Clusters_Loupe = pd.read_csv(\"./input-files/3p-Neutrophils-clusters.csv\", delimiter=',',index_col=0)\n",
    "\n",
    "# Create list with Neutrophil Barcodes\n",
    "Neutrophils_BCs = Clusters_Loupe.index\n",
    "\n",
    "# Read UMAP exported from Loupe Browser \n",
    "UMAP_Loupe = pd.read_csv(\"./input-files/3p-Neutrophils-UMAP-Projection.csv\", delimiter=',',index_col=0)\n",
    "\n",
    "# Select Neutrophil Barcodes\n",
    "UMAP_Loupe = UMAP_Loupe.loc[Neutrophils_BCs,]\n",
    "\n",
    "# Tansform to Numpy\n",
    "UMAP_Loupe = UMAP_Loupe.to_numpy()\n",
    "\n",
    "# Filter Cells to only Neutrophils\n",
    "Neutro3p = Neutro3p[Neutrophils_BCs]\n",
    "\n",
    "# Add Clusters from Loupe to object\n",
    "Neutro3p.obs['Loupe'] = Clusters_Loupe\n",
    "\n",
    "# Add UMAP from Loupe to object\n",
    "Neutro3p.obsm[\"X_umap\"] = UMAP_Loupe\n",
    "\n",
    "Neutro3p"
   ]
  },
  {
   "cell_type": "markdown",
   "id": "a0240369",
   "metadata": {},
   "source": [
    "You might get this warning below, but nothing to worry about.\n",
    "> Trying to set attribute `.obs` of view, copying.\n",
    "\n",
    "Next, read velocyto output and merge"
   ]
  },
  {
   "cell_type": "code",
   "execution_count": null,
   "id": "f6fee80a",
   "metadata": {},
   "outputs": [],
   "source": [
    "# Read velocyto output\n",
    "VelNeutro3p = scv.read('./input-files/WB_Lysis_3p_Introns_8kCells.loom', cache=True)\n",
    "\n",
    "# Merge velocyto and cellranger outputs\n",
    "Neutro3p = scv.utils.merge(Neutro3p, VelNeutro3p)\n",
    "\n",
    "Neutro3p"
   ]
  },
  {
   "cell_type": "markdown",
   "id": "540b1436",
   "metadata": {},
   "source": [
    "You might get this warning, but no need to worry:\n",
    "> Variable names are not unique. To make them unique, call `.var_names_make_unique`.\n",
    "\n",
    "Next, process dataset and obtain latent time values for each cell\n"
   ]
  },
  {
   "cell_type": "code",
   "execution_count": null,
   "id": "7a6e8fff",
   "metadata": {},
   "outputs": [],
   "source": [
    "# Standard scvelo processing to run Dynamical Mode\n",
    "scv.pp.filter_and_normalize(Neutro3p, min_shared_counts=30, n_top_genes=2000)\n",
    "scv.pp.moments(Neutro3p, n_pcs=30, n_neighbors=30)\n",
    "\n",
    "scv.tl.recover_dynamics(Neutro3p)\n",
    "scv.tl.velocity(Neutro3p, mode='dynamical')\n",
    "scv.tl.velocity_graph(Neutro3p)\n",
    "scv.tl.recover_latent_time(Neutro3p)\n",
    "\n",
    "Neutro3p"
   ]
  },
  {
   "cell_type": "code",
   "execution_count": null,
   "id": "5ba648d4",
   "metadata": {},
   "outputs": [],
   "source": [
    "# Visualize the results\n",
    "\n",
    "scv.pl.velocity_embedding_stream(Neutro3p,basis=\"umap\",color=\"Loupe\",title='Neutrophils',fontsize=20,legend_fontsize=20,min_mass=2,palette=Colorss,save='scVelo-umap-cluster.png')\n",
    "scv.pl.velocity_embedding_stream(Neutro3p,basis=\"umap\",color=\"latent_time\",title='Neutrophils',fontsize=20,legend_fontsize=20,min_mass=2,color_map=\"plasma\",save='scVelo-umap-latent_time.png')\n",
    "\n",
    "Genes=[\"RETN\",\"LTF\",\"CAMP\",\"ACTB\",\"GCA\",\"LCN2\",\n",
    "         \"S100A8\",\"MYL6\",\"S100A9\",\"FCGR3B\",\"S100A11\",\"FTH1\",\"IFIT1\",\n",
    "         \"IFITM3\",\"IFIT3\",\"ISG15\",\"IFIT2\",\"RPS9\",\"NEAT1\",\"MALAT1\",\"NFKBIA\",\"CXCL8\"]\n",
    "\n",
    "scv.pl.heatmap(Neutro3p, var_names=Genes, sortby='latent_time', col_color='Loupe', n_convolve=100,figsize=(16,8),yticklabels=True,sort=True,colorbar=True,show=True,layer=\"count\", save='scVelo-heatmap-latent_time.png')\n",
    "sc.pl.violin(Neutro3p, keys='latent_time',groupby=\"Loupe\",order=[\"Cluster 4\",\"Cluster 1\",\"Cluster 5\",\"Cluster 6\",\"Cluster 7\",\"Cluster 3\",\"Cluster 2\"], save='scVelo-violin-latent_time.png')\n"
   ]
  }
 ],
 "metadata": {
  "kernelspec": {
   "display_name": "Python 3 (ipykernel)",
   "language": "python",
   "name": "python3"
  },
  "language_info": {
   "codemirror_mode": {
    "name": "ipython",
    "version": 3
   },
   "file_extension": ".py",
   "mimetype": "text/x-python",
   "name": "python",
   "nbconvert_exporter": "python",
   "pygments_lexer": "ipython3",
   "version": "3.7.13"
  }
 },
 "nbformat": 4,
 "nbformat_minor": 5
}
