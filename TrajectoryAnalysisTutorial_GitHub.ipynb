{
 "cells": [
  {
   "cell_type": "markdown",
   "metadata": {},
   "source": [
    "# Trajectory Analysis using 10x Single Cell Gene Expression Data\n",
    "More details on this analysis can be found in the 10x Genomics Analysis Guides tutorial, located here: https://www.10xgenomics.com/resources/analysis-guides/trajectory-analysis-using-10x-Genomics-single-cell-gene-expression-data"
   ]
  },
  {
   "cell_type": "markdown",
   "metadata": {},
   "source": [
    "This will install the required Python library packages needed for this tutorial. "
   ]
  },
  {
   "cell_type": "code",
   "execution_count": null,
   "metadata": {},
   "outputs": [],
   "source": [
    "!pip install numpy pandas matplotlib scanpy igraph scvelo loompy anndata"
   ]
  },
  {
   "cell_type": "markdown",
   "metadata": {},
   "source": [
    "This will create a new directory called \"input-files\", then download and extract several input data files needed for this tutorial, then display the list of files now available."
   ]
  },
  {
   "cell_type": "code",
   "execution_count": null,
   "metadata": {},
   "outputs": [],
   "source": [
    "!mkdir input-files\n",
    "!curl -o input-files/filtered_feature_bc_matrix.tar.gz https://cf.10xgenomics.com/supp/cell-exp/neutrophils/filtered_feature_bc_matrix.tar.gz\n",
    "!curl -o input-files/WB_Lysis_3p_Introns_8kCells.loom https://cf.10xgenomics.com/supp/cell-exp/neutrophils/WB_Lysis_3p_Introns_8kCells.loom\n",
    "!curl -o input-files/3p-Neutrophils-clusters.csv https://cf.10xgenomics.com/supp/cell-exp/neutrophils/3p-Neutrophils-clusters.csv\n",
    "!curl -o input-files/3p-Neutrophils-UMAP-Projection.csv https://cf.10xgenomics.com/supp/cell-exp/neutrophils/3p-Neutrophils-UMAP-Projection.\n",
    "!tar -xvzf input-files/filtered_feature_bc_matrix.tar.gz -C input-files/\n",
    "!ls -lah input-files"
   ]
  },
  {
   "cell_type": "code",
   "execution_count": null,
   "metadata": {},
   "outputs": [],
   "source": [
    "# First, import required packages in the current session.\n",
    "\n",
    "import numpy as np\n",
    "import pandas as pd\n",
    "import matplotlib.pyplot as pl\n",
    "import scanpy as sc\n",
    "import igraph\n",
    "import scvelo as scv\n",
    "import loompy as lmp\n",
    "import anndata\n",
    "\n",
    "import warnings\n",
    "warnings.filterwarnings('ignore')"
   ]
  },
  {
   "cell_type": "markdown",
   "metadata": {},
   "source": [
    "This chunk of code below is used to customize colors for the cluster and plot sizes"
   ]
  },
  {
   "cell_type": "code",
   "execution_count": null,
   "metadata": {},
   "outputs": [],
   "source": [
    "# Customize parameters for plots (Size, Color, etc)\n",
    "scv.set_figure_params(style=\"scvelo\")\n",
    "pl.rcParams[\"figure.figsize\"] = (10,10)\n",
    "Colorss=[\"#E41A1C\",\"#377EB8\",\"#4DAF4A\",\"#984EA3\",\"#FF7F00\",\"#FFFF33\",\"#A65628\",\"#F781BF\"]"
   ]
  },
  {
   "cell_type": "markdown",
   "metadata": {},
   "source": [
    "Import the GEX matrix along with the clusters and UMAP embeddings from Loupe.\n",
    "\n"
   ]
  },
  {
   "cell_type": "code",
   "execution_count": null,
   "metadata": {
    "scrolled": true
   },
   "outputs": [],
   "source": [
    "# Define Path to cellranger output\n",
    "Path10x='./input-files/filtered_feature_bc_matrix/'\n",
    "\n",
    "# Read cellranger output\n",
    "Neutro3p = sc.read_10x_mtx(Path10x,var_names='gene_symbols',cache=True)\n",
    "\n",
    "Neutro3p"
   ]
  },
  {
   "cell_type": "code",
   "execution_count": null,
   "metadata": {},
   "outputs": [],
   "source": [
    "# Read Clusters exported from Loupe Browser \n",
    "Clusters_Loupe = pd.read_csv(\"./input-files/3p-Neutrophils-clusters.csv\", delimiter=',',index_col=0)\n",
    "\n",
    "# Create list with Neutrophil Barcodes\n",
    "Neutrophils_BCs = Clusters_Loupe.index\n",
    "\n",
    "# Read UMAP exported from Loupe Browser \n",
    "UMAP_Loupe = pd.read_csv(\"./input-files/3p-Neutrophils-UMAP-Projection.csv\", delimiter=',',index_col=0)\n",
    "\n",
    "# Select Neutrophil Barcodes\n",
    "UMAP_Loupe = UMAP_Loupe.loc[Neutrophils_BCs,]\n",
    "\n",
    "# Tansform to Numpy\n",
    "UMAP_Loupe = UMAP_Loupe.to_numpy()\n",
    "\n",
    "# Filter Cells to only Neutrophils\n",
    "Neutro3p = Neutro3p[Neutrophils_BCs]\n",
    "\n",
    "# Add Clusters from Loupe to object\n",
    "Neutro3p.obs['Loupe'] = Clusters_Loupe\n",
    "\n",
    "# Add UMAP from Loupe to object\n",
    "Neutro3p.obsm[\"X_umap\"] = UMAP_Loupe\n",
    "\n",
    "Neutro3p"
   ]
  },
  {
   "cell_type": "markdown",
   "metadata": {},
   "source": [
    "You might get this warning below, but nothing to worry about.\n",
    "> Trying to set attribute `.obs` of view, copying.\n",
    "\n",
    "Next, read velocyto output and merge"
   ]
  },
  {
   "cell_type": "code",
   "execution_count": null,
   "metadata": {},
   "outputs": [],
   "source": [
    "# Read velocyto output\n",
    "VelNeutro3p = scv.read('./input-files/WB_Lysis_3p_Introns_8kCells.loom', cache=True)\n",
    "\n",
    "# Merge velocyto and cellranger outputs\n",
    "Neutro3p = scv.utils.merge(Neutro3p, VelNeutro3p)\n",
    "\n",
    "Neutro3p"
   ]
  },
  {
   "cell_type": "markdown",
   "metadata": {},
   "source": [
    "You might get this warning, but no need to worry:\n",
    "> Variable names are not unique. To make them unique, call `.var_names_make_unique`.\n",
    "\n",
    "Next, process dataset and obtain latent time values for each cell\n"
   ]
  },
  {
   "cell_type": "code",
   "execution_count": null,
   "metadata": {},
   "outputs": [],
   "source": [
    "# Standard scvelo processing to run Dynamical Mode\n",
    "scv.pp.filter_and_normalize(Neutro3p, min_shared_counts=30, n_top_genes=2000)\n",
    "scv.pp.moments(Neutro3p, n_pcs=30, n_neighbors=30)\n",
    "\n",
    "scv.tl.recover_dynamics(Neutro3p)\n",
    "scv.tl.velocity(Neutro3p, mode='dynamical')\n",
    "scv.tl.velocity_graph(Neutro3p)\n",
    "scv.tl.recover_latent_time(Neutro3p)\n",
    "\n",
    "Neutro3p"
   ]
  },
  {
   "cell_type": "code",
   "execution_count": null,
   "metadata": {},
   "outputs": [],
   "source": [
    "# Visualize the results\n",
    "\n",
    "scv.pl.velocity_embedding_stream(Neutro3p,basis=\"umap\",color=\"Loupe\",title='Neutrophils',fontsize=20,legend_fontsize=20,min_mass=2,palette=Colorss,save='scVelo-umap-cluster.png')\n",
    "scv.pl.velocity_embedding_stream(Neutro3p,basis=\"umap\",color=\"latent_time\",title='Neutrophils',fontsize=20,legend_fontsize=20,min_mass=2,color_map=\"plasma\",save='scVelo-umap-latent_time.png')\n",
    "\n",
    "Genes=[\"RETN\",\"LTF\",\"CAMP\",\"ACTB\",\"GCA\",\"LCN2\",\n",
    "         \"S100A8\",\"MYL6\",\"S100A9\",\"FCGR3B\",\"S100A11\",\"FTH1\",\"IFIT1\",\n",
    "         \"IFITM3\",\"IFIT3\",\"ISG15\",\"IFIT2\",\"RPS9\",\"NEAT1\",\"MALAT1\",\"NFKBIA\",\"CXCL8\"]\n",
    "\n",
    "scv.pl.heatmap(Neutro3p, var_names=Genes, sortby='latent_time', col_color='Loupe', n_convolve=100,figsize=(16,8),yticklabels=True,sort=True,colorbar=True,show=True,layer=\"count\", save='scVelo-heatmap-latent_time.png')\n",
    "sc.pl.violin(Neutro3p, keys='latent_time',groupby=\"Loupe\",order=[\"Cluster 4\",\"Cluster 1\",\"Cluster 5\",\"Cluster 6\",\"Cluster 7\",\"Cluster 3\",\"Cluster 2\"], save='scVelo-violin-latent_time.png')\n"
   ]
  }
 ],
 "metadata": {
  "kernelspec": {
   "display_name": "Python 3",
   "language": "python",
   "name": "python3"
  },
  "language_info": {
   "codemirror_mode": {
    "name": "ipython",
    "version": 3
   },
   "file_extension": ".py",
   "mimetype": "text/x-python",
   "name": "python",
   "nbconvert_exporter": "python",
   "pygments_lexer": "ipython3",
   "version": "3.7.12"
  }
 },
 "nbformat": 4,
 "nbformat_minor": 5
}
