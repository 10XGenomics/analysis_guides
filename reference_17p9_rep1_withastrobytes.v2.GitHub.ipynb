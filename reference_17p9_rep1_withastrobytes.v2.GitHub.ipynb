{
 "cells": [
  {
   "cell_type": "markdown",
   "id": "5d11897a",
   "metadata": {},
   "source": [
    "# Install"
   ]
  },
  {
   "cell_type": "code",
   "execution_count": 3,
   "id": "22086af9",
   "metadata": {},
   "outputs": [
    {
     "name": "stderr",
     "output_type": "stream",
     "text": [
      "Updating HTML index of packages in '.Library'\n",
      "Making 'packages.html' ... done\n",
      "Loading required package: remotes\n",
      "Downloading GitHub repo JEFworks-Lab/STdeconvolve@HEAD\n"
     ]
    },
    {
     "name": "stdout",
     "output_type": "stream",
     "text": [
      "vctrs        (NA    -> 0.6.0     ) [CRAN]\n",
      "stringi      (NA    -> 1.7.12    ) [CRAN]\n",
      "rlang        (NA    -> 1.1.0     ) [CRAN]\n",
      "magrittr     (NA    -> 2.0.3     ) [CRAN]\n",
      "lifecycle    (NA    -> 1.0.3     ) [CRAN]\n",
      "glue         (NA    -> 1.6.2     ) [CRAN]\n",
      "cli          (NA    -> 3.6.0     ) [CRAN]\n",
      "Rcpp         (1.0.1 -> 1.0.10    ) [CRAN]\n",
      "gtable       (NA    -> 0.3.1     ) [CRAN]\n",
      "utf8         (NA    -> 1.2.3     ) [CRAN]\n",
      "withr        (NA    -> 2.5.0     ) [CRAN]\n",
      "pkgconfig    (NA    -> 2.0.3     ) [CRAN]\n",
      "fansi        (NA    -> 1.0.4     ) [CRAN]\n",
      "R6           (NA    -> 2.5.1     ) [CRAN]\n",
      "pillar       (NA    -> 1.8.1     ) [CRAN]\n",
      "generics     (NA    -> 0.1.3     ) [CRAN]\n",
      "cpp11        (NA    -> 0.4.3     ) [CRAN]\n",
      "tidyselect   (NA    -> 1.2.0     ) [CRAN]\n",
      "tibble       (NA    -> 3.2.0     ) [CRAN]\n",
      "stringr      (NA    -> 1.5.0     ) [CRAN]\n",
      "purrr        (NA    -> 1.0.1     ) [CRAN]\n",
      "dplyr        (NA    -> 1.1.0     ) [CRAN]\n",
      "colorspace   (NA    -> 2.1-0     ) [CRAN]\n",
      "lattice      (NA    -> 0.20-45   ) [CRAN]\n",
      "viridisLite  (NA    -> 0.4.1     ) [CRAN]\n",
      "RColorBrewer (NA    -> 1.1-3     ) [CRAN]\n",
      "munsell      (NA    -> 0.5.0     ) [CRAN]\n",
      "labeling     (NA    -> 0.4.2     ) [CRAN]\n",
      "farver       (NA    -> 2.1.1     ) [CRAN]\n",
      "Matrix       (NA    -> 1.5-3     ) [CRAN]\n",
      "nlme         (NA    -> 3.1-162   ) [CRAN]\n",
      "scales       (NA    -> 1.2.1     ) [CRAN]\n",
      "mgcv         (NA    -> 1.8-42    ) [CRAN]\n",
      "MASS         (NA    -> 7.3-58.3  ) [CRAN]\n",
      "isoband      (NA    -> 0.2.7     ) [CRAN]\n",
      "ggplot2      (NA    -> 3.4.1     ) [CRAN]\n",
      "RcppEigen    (NA    -> 0.3.3.9.3 ) [CRAN]\n",
      "systemfonts  (NA    -> 1.0.4     ) [CRAN]\n",
      "polyclip     (NA    -> 1.10-4    ) [CRAN]\n",
      "tweenr       (NA    -> 2.0.2     ) [CRAN]\n",
      "formatR      (NA    -> 1.14      ) [CRAN]\n",
      "futile.op... (NA    -> 1.0.1     ) [CRAN]\n",
      "lambda.r     (NA    -> 1.2.4     ) [CRAN]\n",
      "BH           (NA    -> 1.81.0-1  ) [CRAN]\n",
      "xml2         (NA    -> 1.3.3     ) [CRAN]\n",
      "slam         (NA    -> 0.1-50    ) [CRAN]\n",
      "NLP          (NA    -> 0.2-1     ) [CRAN]\n",
      "plyr         (NA    -> 1.8.8     ) [CRAN]\n",
      "RcppArmad... (NA    -> 0.12.0.1.0) [CRAN]\n",
      "matrixStats  (NA    -> 0.63.0    ) [CRAN]\n",
      "cluster      (NA    -> 2.1.4     ) [CRAN]\n",
      "gridExtra    (NA    -> 2.3       ) [CRAN]\n",
      "tidyr        (NA    -> 1.3.0     ) [CRAN]\n",
      "ggfun        (NA    -> 0.0.9     ) [CRAN]\n",
      "ggforce      (NA    -> 0.4.1     ) [CRAN]\n",
      "snow         (NA    -> 0.4-4     ) [CRAN]\n",
      "futile.lo... (NA    -> 1.4.3     ) [CRAN]\n",
      "tm           (NA    -> 0.7-11    ) [CRAN]\n",
      "modeltools   (NA    -> 0.2-23    ) [CRAN]\n",
      "reshape2     (NA    -> 1.4.4     ) [CRAN]\n",
      "liger        (NA    -> 2.0.1     ) [CRAN]\n",
      "clue         (NA    -> 0.3-64    ) [CRAN]\n",
      "viridis      (NA    -> 0.6.2     ) [CRAN]\n",
      "scatterpie   (NA    -> 0.1.8     ) [CRAN]\n",
      "BiocParallel (NA    -> 1.20.1    ) [CRAN]\n",
      "topicmodels  (NA    -> 0.2-13    ) [CRAN]\n"
     ]
    },
    {
     "name": "stderr",
     "output_type": "stream",
     "text": [
      "Installing 66 packages: vctrs, stringi, rlang, magrittr, lifecycle, glue, cli, Rcpp, gtable, utf8, withr, pkgconfig, fansi, R6, pillar, generics, cpp11, tidyselect, tibble, stringr, purrr, dplyr, colorspace, lattice, viridisLite, RColorBrewer, munsell, labeling, farver, Matrix, nlme, scales, mgcv, MASS, isoband, ggplot2, RcppEigen, systemfonts, polyclip, tweenr, formatR, futile.options, lambda.r, BH, xml2, slam, NLP, plyr, RcppArmadillo, matrixStats, cluster, gridExtra, tidyr, ggfun, ggforce, snow, futile.logger, tm, modeltools, reshape2, liger, clue, viridis, scatterpie, BiocParallel, topicmodels\n",
      "Warning message in i.p(...):\n",
      "“installation of package ‘stringi’ had non-zero exit status”Warning message in i.p(...):\n",
      "“installation of package ‘rlang’ had non-zero exit status”Warning message in i.p(...):\n",
      "“installation of package ‘magrittr’ had non-zero exit status”Warning message in i.p(...):\n",
      "“installation of package ‘glue’ had non-zero exit status”Warning message in i.p(...):\n",
      "“installation of package ‘cli’ had non-zero exit status”Warning message in i.p(...):\n",
      "“installation of package ‘Rcpp’ had non-zero exit status”Warning message in i.p(...):\n",
      "“installation of package ‘utf8’ had non-zero exit status”Warning message in i.p(...):\n",
      "“installation of package ‘fansi’ had non-zero exit status”Warning message in i.p(...):\n",
      "“installation of package ‘colorspace’ had non-zero exit status”Warning message in i.p(...):\n",
      "“installation of package ‘lattice’ had non-zero exit status”Warning message in i.p(...):\n",
      "“installation of package ‘farver’ had non-zero exit status”Warning message in i.p(...):\n",
      "“installation of package ‘MASS’ had non-zero exit status”Warning message in i.p(...):\n",
      "“installation of package ‘isoband’ had non-zero exit status”Warning message in i.p(...):\n",
      "“installation of package ‘polyclip’ had non-zero exit status”Warning message in i.p(...):\n",
      "“installation of package ‘xml2’ had non-zero exit status”Warning message in i.p(...):\n",
      "“installation of package ‘slam’ had non-zero exit status”Warning message in i.p(...):\n",
      "“installation of package ‘matrixStats’ had non-zero exit status”Warning message in i.p(...):\n",
      "“installation of package ‘cluster’ had non-zero exit status”Warning message in i.p(...):\n",
      "“installation of package ‘lifecycle’ had non-zero exit status”Warning message in i.p(...):\n",
      "“installation of package ‘munsell’ had non-zero exit status”Warning message in i.p(...):\n",
      "“installation of package ‘Matrix’ had non-zero exit status”Warning message in i.p(...):\n",
      "“installation of package ‘nlme’ had non-zero exit status”Warning message in i.p(...):\n",
      "“installation of package ‘systemfonts’ had non-zero exit status”Warning message in i.p(...):\n",
      "“installation of package ‘plyr’ had non-zero exit status”Warning message in i.p(...):\n",
      "“installation of package ‘RcppArmadillo’ had non-zero exit status”Warning message in i.p(...):\n",
      "“installation of package ‘tm’ had non-zero exit status”Warning message in i.p(...):\n",
      "“installation of package ‘clue’ had non-zero exit status”Warning message in i.p(...):\n",
      "“installation of package ‘vctrs’ had non-zero exit status”Warning message in i.p(...):\n",
      "“installation of package ‘scales’ had non-zero exit status”Warning message in i.p(...):\n",
      "“installation of package ‘mgcv’ had non-zero exit status”Warning message in i.p(...):\n",
      "“installation of package ‘RcppEigen’ had non-zero exit status”Warning message in i.p(...):\n",
      "“installation of package ‘liger’ had non-zero exit status”Warning message in i.p(...):\n",
      "“installation of package ‘topicmodels’ had non-zero exit status”Warning message in i.p(...):\n",
      "“installation of package ‘pillar’ had non-zero exit status”Warning message in i.p(...):\n",
      "“installation of package ‘tidyselect’ had non-zero exit status”Warning message in i.p(...):\n",
      "“installation of package ‘stringr’ had non-zero exit status”Warning message in i.p(...):\n",
      "“installation of package ‘purrr’ had non-zero exit status”Warning message in i.p(...):\n",
      "“installation of package ‘tweenr’ had non-zero exit status”Warning message in i.p(...):\n",
      "“installation of package ‘BiocParallel’ had non-zero exit status”Warning message in i.p(...):\n",
      "“installation of package ‘tibble’ had non-zero exit status”Warning message in i.p(...):\n",
      "“installation of package ‘reshape2’ had non-zero exit status”Warning message in i.p(...):\n",
      "“installation of package ‘dplyr’ had non-zero exit status”Warning message in i.p(...):\n",
      "“installation of package ‘ggplot2’ had non-zero exit status”Warning message in i.p(...):\n",
      "“installation of package ‘tidyr’ had non-zero exit status”Warning message in i.p(...):\n",
      "“installation of package ‘ggfun’ had non-zero exit status”Warning message in i.p(...):\n",
      "“installation of package ‘ggforce’ had non-zero exit status”Warning message in i.p(...):\n",
      "“installation of package ‘viridis’ had non-zero exit status”Warning message in i.p(...):\n",
      "“installation of package ‘scatterpie’ had non-zero exit status”Updating HTML index of packages in '.Library'\n",
      "Making 'packages.html' ... done\n",
      "Running `R CMD build`...\n"
     ]
    },
    {
     "name": "stdout",
     "output_type": "stream",
     "text": [
      "* checking for file ‘/private/var/folders/jw/qpdw77lx345f6f7h92xk197m6h04p_/T/Rtmptcu1EM/remotes7ed11aa9b4a9/JEFworks-Lab-STdeconvolve-1eb0de6/DESCRIPTION’ ... OK\n",
      "* preparing ‘STdeconvolve’:\n",
      "* checking DESCRIPTION meta-information ... OK\n",
      "* checking for LF line-endings in source and make files and shell scripts\n",
      "* checking for empty or unneeded directories\n",
      "* looking to see if a ‘data/datalist’ file should be added\n",
      "* building ‘STdeconvolve_1.3.1.tar.gz’\n"
     ]
    },
    {
     "name": "stderr",
     "output_type": "stream",
     "text": [
      "Warning message in i.p(...):\n",
      "“installation of package ‘/var/folders/jw/qpdw77lx345f6f7h92xk197m6h04p_/T//Rtmptcu1EM/file7ed174b3fa66/STdeconvolve_1.3.1.tar.gz’ had non-zero exit status”"
     ]
    }
   ],
   "source": [
    "install.packages(\"remotes\")\n",
    "require(remotes)\n",
    "remotes::install_github('JEFworks-Lab/STdeconvolve')"
   ]
  },
  {
   "cell_type": "code",
   "execution_count": 5,
   "id": "080fc033",
   "metadata": {},
   "outputs": [
    {
     "name": "stderr",
     "output_type": "stream",
     "text": [
      "Warning message:\n",
      "“package ‘Seurat’ is not available (for R version 3.6.0)”"
     ]
    }
   ],
   "source": [
    "remotes::install_version(\"Seurat\", version = \"4.3.0\")"
   ]
  },
  {
   "cell_type": "code",
   "execution_count": 4,
   "id": "17cd4dba",
   "metadata": {},
   "outputs": [
    {
     "ename": "ERROR",
     "evalue": "Error in library(tidyverse): there is no package called ‘tidyverse’\n",
     "output_type": "error",
     "traceback": [
      "Error in library(tidyverse): there is no package called ‘tidyverse’\nTraceback:\n",
      "1. library(tidyverse)"
     ]
    }
   ],
   "source": [
    "library(tidyverse)\n",
    "library(Seurat)\n",
    "library(STdeconvolve)"
   ]
  },
  {
   "cell_type": "markdown",
   "id": "e25423ee",
   "metadata": {},
   "source": [
    "# Functions"
   ]
  },
  {
   "cell_type": "code",
   "execution_count": null,
   "id": "4233a20d",
   "metadata": {},
   "outputs": [],
   "source": [
    "marker_gene_list<-function(topic=1,exp_value=2,Gexp){\n",
    "  ## highly expressed in cell-type of interest\n",
    "  highgexp <- names(which(Gexp[topic,] > exp_value))\n",
    "  ## high log2(fold-change) compared to other deconvolved cell-types\n",
    "  log2fc <- sort(log2(Gexp[topic,highgexp]/colMeans(Gexp[-topic,highgexp])), decreasing=TRUE)\n",
    "  return(tibble(Gene=names(log2fc),log2fc=log2fc))\n",
    "}"
   ]
  },
  {
   "cell_type": "code",
   "execution_count": null,
   "id": "b717be77",
   "metadata": {},
   "outputs": [],
   "source": [
    "plot_spatial<-function(plot_data=plot_data,suffix1='_prop.eps',suffix2='_prop_lim1.eps',y_max=1,dir=dir,i){\n",
    "  p1<-ggplot(plot_data, aes(x, y,fill = prop)) +\n",
    "    geom_point(shape=21,size=4) + \n",
    "    guides(size=\"none\")+\n",
    "    labs(title=str_c(\"topic \",i))+\n",
    "    scale_fill_viridis_c() +\n",
    "    theme_void()+\n",
    "    coord_equal()\n",
    "  \n",
    "  p2<-ggplot(plot_data, aes(x, y,fill = prop)) +\n",
    "    geom_point(shape=21,size=4) + \n",
    "    guides(size=\"none\")+\n",
    "    labs(title=str_c(\"topic \",i))+\n",
    "    scale_fill_viridis_c(limits=c(0,y_max)) +\n",
    "    theme_void()+\n",
    "    coord_equal()\n",
    "  ggsave(plot = p1, paste(dir,\"topic_\",i,suffix1, sep=''), \n",
    "         height=5, width=5, units='in', dpi=300)\n",
    "  ggsave(plot= p2, paste(dir,\"topic_\",i,suffix2, sep=''), \n",
    "         height=5, width=5, units='in', dpi=300)\n",
    "}"
   ]
  },
  {
   "cell_type": "code",
   "execution_count": null,
   "id": "32d68bce",
   "metadata": {},
   "outputs": [],
   "source": [
    "run_me_results<-function(opt,\n",
    "                         dir ){\n",
    "  optLDA <- optimalModel(models = ldas, opt = opt)\n",
    "  results <- getBetaTheta(optLDA,\n",
    "                          perc.filt = 0.05,\n",
    "                          betaScale = 1000)\n",
    "  deconProp <- results$theta\n",
    "  deconGexp <- results$beta\n",
    "  \n",
    "  dir.create(dir)\n",
    "  \n",
    "  for(i in 1:dim(deconProp)[2]){\n",
    "    plot_data<-merge(pos,deconProp[,i],by = 0)\n",
    "    names(plot_data)<-c(\"barcode\",\"x\",\"y\",\"prop\")\n",
    "    \n",
    "    plot_spatial(plot_data=plot_data,suffix1='_prop.eps',suffix2='_prop.jpg',y_max=1,dir=dir,i=i)\n",
    "    \n",
    "  }"
   ]
  },
  {
   "cell_type": "code",
   "execution_count": null,
   "id": "d35bec89",
   "metadata": {},
   "outputs": [],
   "source": [
    "marker_gene_output<-map(.x = 1:dim(deconGexp)[1],\n",
    "                          ~marker_gene_list(topic = .x,exp_value = 2,Gexp = deconGexp))\n",
    "  names(marker_gene_output)<-str_c(\"topic_genes_exp2.\",1:dim(deconGexp)[1],\".csv\")\n",
    "  \n",
    "  map2(.x = names(marker_gene_output),\n",
    "       .y = marker_gene_output,\n",
    "       ~write_csv(x = .y,file = paste(dir,.x)))\n",
    "  \n",
    "  alpha<-map(.x = 1:21,~ldas$model[[.x]]@alpha)%>%unlist\n",
    "  \n",
    "  plot_df<-tibble(K=2:22,alpha=alpha,perplexities=ldas$perplexities,rare=ldas$numRare)\n",
    "  plot_df\n",
    "  \n",
    "  p1<-ggplot(data = plot_df) +\n",
    "    geom_line(mapping = aes(x = K,y = perplexities), color=\"red3\",size=2) +\n",
    "    geom_point(mapping = aes(x = K,y = perplexities),shape=21, color=\"black\", fill=ifelse(alpha > 1, \"white\", \"red3\"), size=6)+\n",
    "    theme_linedraw(base_size = 16,base_rect_size =2,base_line_size = 2)+ylab(\"perplexity\")+\n",
    "    ylim(min(plot_df$perplexities)-10,10+max(plot_df$perplexities))\n",
    "  p2<-ggplot(data = plot_df) +\n",
    "    geom_point(mapping = aes(x = K,y = rare),shape=21, color=\"black\", fill=\"blue\", size=4)+ \n",
    "    geom_line(mapping = aes(x = K,y = rare), color=\"blue\",size=2)+\n",
    "    theme_linedraw(base_size = 16,base_rect_size =2,base_line_size = 2)+ylab(\"cell−types with mean proportion < 5%\")\n",
    "  \n",
    "  p3<-ggplot(data = plot_df) +\n",
    "    geom_line(mapping = aes(x = K,y = alpha), color=\"darkgreen\",size=2) +ylim(c(0,1))+\n",
    "    geom_point(mapping = aes(x = K,y = alpha),shape=21, color=\"black\", fill=ifelse(alpha > 1, \"white\", \"darkgreen\"), size=6)+\n",
    "    theme_linedraw(base_size = 16,base_rect_size =2,base_line_size = 2)+ylab(\"alpha\")\n",
    "  \n",
    "  print(p1+p2+p3)\n",
    "  \n",
    "  ggsave(plot = p1+p2+p3,filename =str_c(dir,\"merged_QC_plot.eps\") ,height=5, width=12, units='in', dpi=300)\n",
    "  ggsave(plot = p1+p2+p3,filename = str_c(dir,\"merged_QC_plot.jpg\"),height=5, width=12, units='in', dpi=300)\n",
    "  \n",
    "}"
   ]
  },
  {
   "cell_type": "markdown",
   "id": "f8c08d80",
   "metadata": {},
   "source": [
    "# load data and preprocess data"
   ]
  },
  {
   "cell_type": "markdown",
   "id": "e11a46c5",
   "metadata": {},
   "source": [
    "Note: check R_input_files folder for input data"
   ]
  },
  {
   "cell_type": "code",
   "execution_count": null,
   "id": "3204e5dd",
   "metadata": {},
   "outputs": [],
   "source": [
    "counts<-Read10X_h5(filename = \"Data/h5/VisiumFFPE_Mouse_Brain_Transgenic_Age_17p9_Rep_1.h5\")\n",
    "counts"
   ]
  },
  {
   "cell_type": "code",
   "execution_count": null,
   "id": "6b198ef7",
   "metadata": {},
   "outputs": [],
   "source": [
    "spatial_barcodes<-read_csv(\"Annotation_Spatial/spatial_cord_subset_17p9_rep1.csv\")\n",
    "\n",
    "colnames(counts)%in%spatial_barcodes$barcode%>%summary"
   ]
  },
  {
   "cell_type": "code",
   "execution_count": null,
   "id": "58d25ac5",
   "metadata": {},
   "outputs": [],
   "source": [
    "counts_subset <- counts[,colnames(counts)%in%spatial_barcodes$barcode]\n",
    "\n",
    "pos<-as.data.frame(spatial_barcodes)\n",
    "rownames(pos)<-pos[,1]"
   ]
  },
  {
   "cell_type": "code",
   "execution_count": null,
   "id": "e6c2a67d",
   "metadata": {},
   "outputs": [],
   "source": [
    "pos<-pos[,5:6]\n",
    "names(pos)<-c(\"x\",\"y\")\n",
    "head(pos)"
   ]
  },
  {
   "cell_type": "code",
   "execution_count": null,
   "id": "c5d7ae3e",
   "metadata": {},
   "outputs": [],
   "source": [
    "counts_subset_clean <- cleanCounts(counts = counts_subset,\n",
    "                                   min.lib.size = 100,\n",
    "                                   min.reads = 1,\n",
    "                                   min.detected = 1,\n",
    "                                   verbose = TRUE)\n",
    "## feature select for genes\n",
    "##I am going to use the over dispersed genes and an astrocyte subset.\n",
    "odGenes <- getOverdispersedGenes(as.matrix(counts_subset_clean),\n",
    "                                 gam.k=5,\n",
    "                                 alpha=0.05,\n",
    "                                 plot=FALSE,\n",
    "                                 use.unadjusted.pvals=FALSE,\n",
    "                                 do.par=TRUE,\n",
    "                                 max.adjusted.variance=1e3,\n",
    "                                 min.adjusted.variance=1e-3,\n",
    "                                 verbose=FALSE, details=TRUE)"
   ]
  },
  {
   "cell_type": "code",
   "execution_count": null,
   "id": "6ee0a3c7",
   "metadata": {},
   "outputs": [],
   "source": [
    "genes <- odGenes$ods\n",
    "length(genes)"
   ]
  },
  {
   "cell_type": "code",
   "execution_count": null,
   "id": "20518565",
   "metadata": {},
   "outputs": [],
   "source": [
    "astro<-read_csv(file = \"Data/astro_markers.csv\")\n",
    "astro_overlap_fit<-rownames(counts_subset_clean)%in%astro$`Astrocyte Markers`\n",
    "astro_overlap<-rownames(counts_subset_clean)[astro_overlap_fit]\n",
    "gene_astro<-c(genes,astro_overlap)%>%unique()"
   ]
  },
  {
   "cell_type": "code",
   "execution_count": null,
   "id": "661b9b58",
   "metadata": {},
   "outputs": [],
   "source": [
    "corpus<-preprocess(t(as.matrix(counts_subset_clean)),\n",
    "                   selected.genes = gene_astro,plot=FALSE,\n",
    "                   min.reads = 1, \n",
    "                   min.lib.size = 100, \n",
    "                   min.detected = 1,\n",
    "                   ODgenes = FALSE, \n",
    "                   verbose = TRUE)"
   ]
  },
  {
   "cell_type": "code",
   "execution_count": null,
   "id": "dff38015",
   "metadata": {},
   "outputs": [],
   "source": [
    "ldas <- fitLDA(corpus$corpus, Ks = seq(2, 22, by = 1),\n",
    "               perc.rare.thresh = 0.05,\n",
    "               plot=FALSE,\n",
    "               verbose=TRUE)\n"
   ]
  },
  {
   "cell_type": "code",
   "execution_count": null,
   "id": "993c34c2",
   "metadata": {},
   "outputs": [],
   "source": [
    "saveRDS(object = ldas,file = \"optlDA.17p9_rep1_astrogenes.rds\")\n",
    "#ldas<-readRDS(file = \"optlDA.17p9_rep1_astrogenes.rds\")"
   ]
  },
  {
   "cell_type": "code",
   "execution_count": null,
   "id": "76825477",
   "metadata": {},
   "outputs": [],
   "source": [
    "run_me_results(opt=18,dir = \"output_18_Tran_17p9_rep1_astrogenes_astro_newplots/\")\n",
    "#run_me_results(opt=12,dir = \"output_12_Tran_17p9_rep1_astrogenes_astro/\")"
   ]
  }
 ],
 "metadata": {
  "kernelspec": {
   "display_name": "R",
   "language": "R",
   "name": "ir"
  },
  "language_info": {
   "codemirror_mode": "r",
   "file_extension": ".r",
   "mimetype": "text/x-r-source",
   "name": "R",
   "pygments_lexer": "r",
   "version": "3.6.0"
  }
 },
 "nbformat": 4,
 "nbformat_minor": 5
}
