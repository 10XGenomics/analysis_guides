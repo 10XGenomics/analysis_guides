{
 "cells": [
  {
   "cell_type": "markdown",
   "id": "2ea2ad8c",
   "metadata": {},
   "source": [
    "# Reference-free spot cell-type deconvolution with STdeconvolve"
   ]
  },
  {
   "cell_type": "markdown",
   "id": "c3dd761e",
   "metadata": {},
   "source": [
    "R script file available for download: https://raw.githubusercontent.com/10XGenomics/analysis_guides/main/reference_17p9_rep1_withastrocytes.v2.GitHub.R"
   ]
  },
  {
   "cell_type": "markdown",
   "id": "5d11897a",
   "metadata": {},
   "source": [
    "# Install"
   ]
  },
  {
   "cell_type": "code",
   "execution_count": null,
   "id": "5c8df34f",
   "metadata": {},
   "outputs": [],
   "source": [
    "install.packages(\"remotes\")\n",
    "system(\"apt install libgsl-dev\", intern=TRUE)"
   ]
  },
  {
   "cell_type": "markdown",
   "id": "d98c1e7e",
   "metadata": {},
   "source": [
    "This can take ~10 min:"
   ]
  },
  {
   "cell_type": "code",
   "execution_count": null,
   "id": "732e67c3",
   "metadata": {},
   "outputs": [],
   "source": [
    "remotes::install_github('JEFworks-Lab/STdeconvolve')"
   ]
  },
  {
   "cell_type": "markdown",
   "id": "42850e67",
   "metadata": {},
   "source": [
    "This can take ~20 min:"
   ]
  },
  {
   "cell_type": "code",
   "execution_count": null,
   "id": "46169e63",
   "metadata": {},
   "outputs": [],
   "source": [
    "remotes::install_version(\"Seurat\", version = \"4.3.0\")"
   ]
  },
  {
   "cell_type": "code",
   "execution_count": null,
   "id": "1079ef79",
   "metadata": {},
   "outputs": [],
   "source": [
    "install.packages(\"hdf5r\")\n",
    "install.packages(\"tidyverse\")"
   ]
  },
  {
   "cell_type": "markdown",
   "id": "db71231e",
   "metadata": {},
   "source": [
    "# Load libraries"
   ]
  },
  {
   "cell_type": "code",
   "execution_count": null,
   "id": "430bc716",
   "metadata": {},
   "outputs": [],
   "source": [
    "library(Seurat)\n",
    "library(STdeconvolve)"
   ]
  },
  {
   "cell_type": "markdown",
   "id": "2e85944c",
   "metadata": {},
   "source": [
    "This might give errors. You can ignore them."
   ]
  },
  {
   "cell_type": "code",
   "execution_count": null,
   "id": "1b8a2355",
   "metadata": {},
   "outputs": [],
   "source": [
    "library(tidyverse)"
   ]
  },
  {
   "cell_type": "markdown",
   "id": "95adc5d6",
   "metadata": {},
   "source": [
    "# Download input files"
   ]
  },
  {
   "cell_type": "markdown",
   "id": "9c5a95f2",
   "metadata": {},
   "source": [
    "This will download input files needed for this tutorial."
   ]
  },
  {
   "cell_type": "code",
   "execution_count": null,
   "id": "184d4527",
   "metadata": {},
   "outputs": [],
   "source": [
    "download.file(\"https://raw.githubusercontent.com/10XGenomics/analysis_guides/main/input_files/VisiumFFPE_Mouse_Brain_Transgenic_Age_17p9_Rep_1.h5\", \"VisiumFFPE_Mouse_Brain_Transgenic_Age_17p9_Rep_1.h5\")\n",
    "download.file(\"https://raw.githubusercontent.com/10XGenomics/analysis_guides/main/input_files/astro_markers.csv\",\"astro_markers.csv\")\n",
    "download.file(\"https://raw.githubusercontent.com/10XGenomics/analysis_guides/main/input_files/spatial_cord_subset_17p9_rep1.csv\", \"spatial_cord_subset_17p9_rep1.csv\")\n",
    "download.file(\"https://raw.githubusercontent.com/10XGenomics/analysis_guides/main/input_files/optlDA.17p9_rep1_astrogenes.rds\",\"optlDA.17p9_rep1_astrogenes.rds\")\n",
    "list.files(path = \".\")"
   ]
  },
  {
   "cell_type": "markdown",
   "id": "e25423ee",
   "metadata": {},
   "source": [
    "# Functions"
   ]
  },
  {
   "cell_type": "code",
   "execution_count": null,
   "id": "4233a20d",
   "metadata": {},
   "outputs": [],
   "source": [
    "marker_gene_list<-function(topic=1,exp_value=2,Gexp){\n",
    "  ## highly expressed in cell-type of interest\n",
    "  highgexp <- names(which(Gexp[topic,] > exp_value))\n",
    "  ## high log2(fold-change) compared to other deconvolved cell-types\n",
    "  log2fc <- sort(log2(Gexp[topic,highgexp]/colMeans(Gexp[-topic,highgexp])), decreasing=TRUE)\n",
    "  return(tibble(Gene=names(log2fc),log2fc=log2fc))\n",
    "}"
   ]
  },
  {
   "cell_type": "code",
   "execution_count": null,
   "id": "b717be77",
   "metadata": {},
   "outputs": [],
   "source": [
    "plot_spatial<-function(plot_data=plot_data,suffix1='_prop.eps',suffix2='_prop_lim1.eps',y_max=1,dir=dir,i){\n",
    "  p1<-ggplot(plot_data, aes(x, y,fill = prop)) +\n",
    "    geom_point(shape=21,size=4) + \n",
    "    guides(size=\"none\")+\n",
    "    labs(title=str_c(\"topic \",i))+\n",
    "    scale_fill_viridis_c() +\n",
    "    theme_void()+\n",
    "    coord_equal()\n",
    "  \n",
    "  p2<-ggplot(plot_data, aes(x, y,fill = prop)) +\n",
    "    geom_point(shape=21,size=4) + \n",
    "    guides(size=\"none\")+\n",
    "    labs(title=str_c(\"topic \",i))+\n",
    "    scale_fill_viridis_c(limits=c(0,y_max)) +\n",
    "    theme_void()+\n",
    "    coord_equal()\n",
    "  ggsave(plot = p1, paste(dir,\"topic_\",i,suffix1, sep=''), \n",
    "         height=5, width=5, units='in', dpi=300)\n",
    "  ggsave(plot= p2, paste(dir,\"topic_\",i,suffix2, sep=''), \n",
    "         height=5, width=5, units='in', dpi=300)\n",
    "}"
   ]
  },
  {
   "cell_type": "code",
   "execution_count": null,
   "id": "32d68bce",
   "metadata": {},
   "outputs": [],
   "source": [
    "run_me_results<-function(opt,\n",
    "                         dir ){\n",
    "  optLDA <- optimalModel(models = ldas, opt = opt)\n",
    "  results <- getBetaTheta(optLDA,\n",
    "                          perc.filt = 0.05,\n",
    "                          betaScale = 1000)\n",
    "  deconProp <- results$theta\n",
    "  deconGexp <- results$beta\n",
    "  \n",
    "  dir.create(dir)\n",
    "  \n",
    "  for(i in 1:dim(deconProp)[2]){\n",
    "    plot_data<-merge(pos,deconProp[,i],by = 0)\n",
    "    names(plot_data)<-c(\"barcode\",\"x\",\"y\",\"prop\")\n",
    "    \n",
    "    plot_spatial(plot_data=plot_data,suffix1='_prop.eps',suffix2='_prop.jpg',y_max=1,dir=dir,i=i)\n",
    "    \n",
    "  }\n",
    "    marker_gene_output<-map(.x = 1:dim(deconGexp)[1],\n",
    "                          ~marker_gene_list(topic = .x,exp_value = 2,Gexp = deconGexp))\n",
    "  names(marker_gene_output)<-str_c(\"topic_genes_exp2.\",1:dim(deconGexp)[1],\".csv\")\n",
    "  \n",
    "  map2(.x = names(marker_gene_output),\n",
    "       .y = marker_gene_output,\n",
    "       ~write_csv(x = .y,file = paste(dir,.x)))\n",
    "  \n",
    "  alpha<-map(.x = 1:21,~ldas$model[[.x]]@alpha)%>%unlist\n",
    "  \n",
    "  plot_df<-tibble(K=2:22,alpha=alpha,perplexities=ldas$perplexities,rare=ldas$numRare)\n",
    "  plot_df\n",
    "  \n",
    "  p1<-ggplot(data = plot_df) +\n",
    "    geom_line(mapping = aes(x = K,y = perplexities), color=\"red3\",size=2) +\n",
    "    geom_point(mapping = aes(x = K,y = perplexities),shape=21, color=\"black\", fill=ifelse(alpha > 1, \"white\", \"red3\"), size=6)+\n",
    "    theme_linedraw(base_size = 16,base_rect_size =2,base_line_size = 2)+ylab(\"perplexity\")+\n",
    "    ylim(min(plot_df$perplexities)-10,10+max(plot_df$perplexities))\n",
    "  p2<-ggplot(data = plot_df) +\n",
    "    geom_point(mapping = aes(x = K,y = rare),shape=21, color=\"black\", fill=\"blue\", size=4)+ \n",
    "    geom_line(mapping = aes(x = K,y = rare), color=\"blue\",size=2)+\n",
    "    theme_linedraw(base_size = 16,base_rect_size =2,base_line_size = 2)+ylab(\"cell−types with mean proportion < 5%\")\n",
    "  \n",
    "  p3<-ggplot(data = plot_df) +\n",
    "    geom_line(mapping = aes(x = K,y = alpha), color=\"darkgreen\",size=2) +ylim(c(0,1))+\n",
    "    geom_point(mapping = aes(x = K,y = alpha),shape=21, color=\"black\", fill=ifelse(alpha > 1, \"white\", \"darkgreen\"), size=6)+\n",
    "    theme_linedraw(base_size = 16,base_rect_size =2,base_line_size = 2)+ylab(\"alpha\")\n",
    "  \n",
    "  print(p1+p2+p3)\n",
    "  \n",
    "  ggsave(plot = p1+p2+p3,filename =str_c(dir,\"merged_QC_plot.eps\") ,height=5, width=12, units='in', dpi=300)\n",
    "  ggsave(plot = p1+p2+p3,filename = str_c(dir,\"merged_QC_plot.jpg\"),height=5, width=12, units='in', dpi=300)\n",
    "  \n",
    "}"
   ]
  },
  {
   "cell_type": "markdown",
   "id": "f8c08d80",
   "metadata": {},
   "source": [
    "# Load and preprocess data"
   ]
  },
  {
   "cell_type": "code",
   "execution_count": null,
   "id": "3204e5dd",
   "metadata": {},
   "outputs": [],
   "source": [
    "counts<-Read10X_h5(filename = \"/content/VisiumFFPE_Mouse_Brain_Transgenic_Age_17p9_Rep_1.h5\")\n",
    "counts"
   ]
  },
  {
   "cell_type": "code",
   "execution_count": null,
   "id": "6b198ef7",
   "metadata": {},
   "outputs": [],
   "source": [
    "spatial_barcodes<-read_csv(\"/content/spatial_cord_subset_17p9_rep1.csv\")\n",
    "\n",
    "colnames(counts)%in%spatial_barcodes$barcode%>%summary"
   ]
  },
  {
   "cell_type": "code",
   "execution_count": null,
   "id": "58d25ac5",
   "metadata": {},
   "outputs": [],
   "source": [
    "counts_subset <- counts[,colnames(counts)%in%spatial_barcodes$barcode]\n",
    "\n",
    "pos<-as.data.frame(spatial_barcodes)\n",
    "rownames(pos)<-pos[,1]"
   ]
  },
  {
   "cell_type": "code",
   "execution_count": null,
   "id": "e6c2a67d",
   "metadata": {},
   "outputs": [],
   "source": [
    "pos<-pos[,5:6]\n",
    "names(pos)<-c(\"x\",\"y\")\n",
    "head(pos)"
   ]
  },
  {
   "cell_type": "code",
   "execution_count": null,
   "id": "c5d7ae3e",
   "metadata": {},
   "outputs": [],
   "source": [
    "counts_subset_clean <- cleanCounts(counts = counts_subset,\n",
    "                                   min.lib.size = 100,\n",
    "                                   min.reads = 1,\n",
    "                                   min.detected = 1,\n",
    "                                   verbose = TRUE)\n",
    "## feature select for genes\n",
    "##I am going to use the over dispersed genes and an astrocyte subset.\n",
    "odGenes <- getOverdispersedGenes(as.matrix(counts_subset_clean),\n",
    "                                 gam.k=5,\n",
    "                                 alpha=0.05,\n",
    "                                 plot=FALSE,\n",
    "                                 use.unadjusted.pvals=FALSE,\n",
    "                                 do.par=TRUE,\n",
    "                                 max.adjusted.variance=1e3,\n",
    "                                 min.adjusted.variance=1e-3,\n",
    "                                 verbose=FALSE, details=TRUE)"
   ]
  },
  {
   "cell_type": "code",
   "execution_count": null,
   "id": "6ee0a3c7",
   "metadata": {},
   "outputs": [],
   "source": [
    "genes <- odGenes$ods\n",
    "length(genes)"
   ]
  },
  {
   "cell_type": "code",
   "execution_count": null,
   "id": "20518565",
   "metadata": {},
   "outputs": [],
   "source": [
    "astro<-read_csv(file = \"/content/spatial_cord_subset_17p9_rep1.csv\")\n",
    "astro_overlap_fit<-rownames(counts_subset_clean)%in%astro$`Astrocyte Markers`\n",
    "astro_overlap<-rownames(counts_subset_clean)[astro_overlap_fit]\n",
    "gene_astro<-c(genes,astro_overlap)%>%unique()"
   ]
  },
  {
   "cell_type": "code",
   "execution_count": null,
   "id": "661b9b58",
   "metadata": {},
   "outputs": [],
   "source": [
    "corpus<-preprocess(t(as.matrix(counts_subset_clean)),\n",
    "                   selected.genes = gene_astro,plot=FALSE,\n",
    "                   min.reads = 1, \n",
    "                   min.lib.size = 100, \n",
    "                   min.detected = 1,\n",
    "                   ODgenes = FALSE, \n",
    "                   verbose = TRUE)"
   ]
  },
  {
   "cell_type": "markdown",
   "id": "b25e4834",
   "metadata": {},
   "source": [
    "# LDA model fitting"
   ]
  },
  {
   "cell_type": "markdown",
   "id": "4af9d7eb",
   "metadata": {},
   "source": [
    "Find the optimal number of cell-types K for the LDA model.\n",
    "https://rdrr.io/github/JEFworks-Lab/STdeconvolve/man/fitLDA.html"
   ]
  },
  {
   "cell_type": "markdown",
   "id": "9f43f6ee",
   "metadata": {},
   "source": [
    "STdeconvolve: https://jef.works/STdeconvolve/"
   ]
  },
  {
   "cell_type": "markdown",
   "id": "280fd828",
   "metadata": {},
   "source": [
    "This can take ~30-60 min:"
   ]
  },
  {
   "cell_type": "code",
   "execution_count": null,
   "id": "dff38015",
   "metadata": {},
   "outputs": [],
   "source": [
    "ldas <- fitLDA(corpus$corpus, Ks = seq(2, 22, by = 1),\n",
    "               perc.rare.thresh = 0.05,\n",
    "               plot=FALSE,\n",
    "               ncores=4,\n",
    "               verbose=TRUE)"
   ]
  },
  {
   "cell_type": "code",
   "execution_count": null,
   "id": "993c34c2",
   "metadata": {},
   "outputs": [],
   "source": [
    "saveRDS(object = ldas,file = \"/content/optlDA.17p9_rep1_astrogenes.rds\")\n",
    "#ldas<-readRDS(file = \"optlDA.17p9_rep1_astrogenes.rds\")"
   ]
  },
  {
   "cell_type": "code",
   "execution_count": null,
   "id": "8e12eed7",
   "metadata": {},
   "outputs": [],
   "source": [
    "run_me_results(opt=18,dir = \"output_18_Tran_17p9_rep1_astrogenes_astro_newplots/\")\n",
    "#run_me_results(opt=12,dir = \"output_12_Tran_17p9_rep1_astrogenes_astro/\")"
   ]
  },
  {
   "cell_type": "markdown",
   "id": "ce0b19fe",
   "metadata": {},
   "source": [
    "This will product numerous warning messages, which can be ignored. "
   ]
  }
 ],
 "metadata": {
  "kernelspec": {
   "display_name": "R",
   "language": "R",
   "name": "ir"
  },
  "language_info": {
   "codemirror_mode": "r",
   "file_extension": ".r",
   "mimetype": "text/x-r-source",
   "name": "R",
   "pygments_lexer": "r",
   "version": "4.2.3"
  }
 },
 "nbformat": 4,
 "nbformat_minor": 5
}
