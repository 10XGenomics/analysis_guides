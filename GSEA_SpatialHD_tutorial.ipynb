{
 "cells": [
  {
   "cell_type": "code",
   "execution_count": null,
   "id": "4c96fa8a-d8df-45cf-bc2d-5603890647f7",
   "metadata": {},
   "outputs": [],
   "source": [
    "install.packages(\"remotes\")\n",
    "install.packages(\"devtools\")\n",
    "system(\"apt install libgsl-dev\", intern=TRUE)\n",
    "devtools::install_github(\"paulponcet/lplyr\")"
   ]
  },
  {
   "cell_type": "code",
   "execution_count": null,
   "id": "3f7974bd-b18d-4415-bb32-d89b830d7f8a",
   "metadata": {},
   "outputs": [],
   "source": [
    "if (!requireNamespace(\"BiocManager\", quietly = TRUE))\n",
    "    install.packages(\"BiocManager\")\n",
    "BiocManager::install(version = '3.19',ask = FALSE)"
   ]
  },
  {
   "cell_type": "markdown",
   "id": "16deb88a-845b-4812-8b05-2c7fe41de9f5",
   "metadata": {},
   "source": [
    "The following step can take about 15 min to install."
   ]
  },
  {
   "cell_type": "code",
   "execution_count": null,
   "id": "90510155-6a62-492a-ab9e-fa265527ea38",
   "metadata": {},
   "outputs": [],
   "source": [
    "BiocManager::install(\"clusterProfiler\")\n",
    "BiocManager::install(\"enrichplot\")\n",
    "BiocManager::install(\"ggplot2\")\n",
    "BiocManager::install(\"msigdbr\")\n",
    "BiocManager::install(\"dplyr\")\n",
    "BiocManager::install(\"DOSE\")\n",
    "BiocManager::install(\"forcats\")\n",
    "BiocManager::install(\"AnnotationDbi\")\n",
    "BiocManager::install(\"org.Hs.eg.db\")"
   ]
  },
  {
   "cell_type": "code",
   "execution_count": null,
   "id": "c5eb4dd2-975d-42a6-92a2-7ec0be9cc244",
   "metadata": {},
   "outputs": [],
   "source": [
    "library(clusterProfiler)\n",
    "library(enrichplot)\n",
    "library(ggplot2)\n",
    "library(msigdbr)\n",
    "library(dplyr)\n",
    "library(lplyr)\n",
    "library(DOSE)\n",
    "library(forcats)\n",
    "library(AnnotationDbi)\n",
    "library(org.Hs.eg.db)"
   ]
  },
  {
   "cell_type": "code",
   "execution_count": null,
   "id": "bcb25e77-3b03-47f8-9acf-d6b3ab3ffb06",
   "metadata": {},
   "outputs": [],
   "source": [
    "download.file(\"https://raw.githubusercontent.com/10XGenomics/analysis_guides/main/Visium_HD_GSEA/All_gene_exp_ROI.csv\", \"All_gene_exp_ROI.csv\")\n",
    "df <- read.csv(\"All_gene_exp_ROI.csv\", header = TRUE)\n",
    "head(df)"
   ]
  },
  {
   "cell_type": "code",
   "execution_count": null,
   "id": "29f6057b-892c-4137-92d7-c0f4919a21ba",
   "metadata": {},
   "outputs": [],
   "source": [
    "entrez_data <- AnnotationDbi::select(org.Hs.eg.db, keys = df$SYMBOL,columns = c(\"SYMBOL\", \"ENTREZID\"),keytype = \"SYMBOL\")\n",
    "head(entrez_data)"
   ]
  },
  {
   "cell_type": "code",
   "execution_count": null,
   "id": "34f73b8f-7127-4bda-b1c3-ab096e8187dd",
   "metadata": {},
   "outputs": [],
   "source": [
    "anno_result <- entrez_data %>%\n",
    "  filter(!is.na(ENTREZID)) %>%\n",
    "  inner_join(df, by = \"SYMBOL\",relationship = \"many-to-many\")"
   ]
  },
  {
   "cell_type": "code",
   "execution_count": null,
   "id": "265df11d-59c7-4d9b-81cc-218f67381372",
   "metadata": {},
   "outputs": [],
   "source": [
    "head(anno_result)"
   ]
  },
  {
   "cell_type": "code",
   "execution_count": null,
   "id": "f117ad53-2f29-4a10-af56-3f93d4fe4799",
   "metadata": {},
   "outputs": [],
   "source": [
    "geneList <- with(anno_result, setNames(Log2FC, ENTREZID))\n",
    "geneList <- sort(geneList, decreasing = TRUE)"
   ]
  },
  {
   "cell_type": "code",
   "execution_count": null,
   "id": "238af2d3-4b2b-4cef-9ca2-285ee06179b8",
   "metadata": {},
   "outputs": [],
   "source": [
    "go_t2g <- msigdbr(species = \"Homo sapiens\", category = \"C5\", subcategory = \"GO:MF\") %>%\n",
    "  dplyr::select(gs_name, entrez_gene)\n",
    "head(go_t2g)"
   ]
  },
  {
   "cell_type": "code",
   "execution_count": null,
   "id": "ec7b98ee-f31d-49f9-8e8b-ed521e014928",
   "metadata": {},
   "outputs": [],
   "source": [
    "go <- GSEA(geneList, TERM2GENE = go_t2g)\n",
    "go"
   ]
  },
  {
   "cell_type": "code",
   "execution_count": null,
   "id": "5602a474-a7ff-4f5d-8b5e-3b42d6717810",
   "metadata": {},
   "outputs": [],
   "source": [
    "go <- setReadable(go, 'org.Hs.eg.db', 'ENTREZID')"
   ]
  },
  {
   "cell_type": "code",
   "execution_count": null,
   "id": "bfa01284-d7f0-4e68-9617-eede3deb9bb3",
   "metadata": {},
   "outputs": [],
   "source": [
    "#set plot size\n",
    "options(repr.plot.width=16, repr.plot.height=16)\n",
    "\n",
    "#basic dotplot\n",
    "dotplot(go, showCategory=10, split=\".sign\") + facet_grid(.~.sign)\n",
    "\n",
    "#save a publicaiton-quality version of the plot\n",
    "ggsave(\"go_dotplot.pdf\",\n",
    "        dpi = 600,\n",
    "        width = 35, height = 25, unit = \"cm\")"
   ]
  },
  {
   "cell_type": "code",
   "execution_count": null,
   "id": "7816f98b-bc8f-4d01-aa5f-14e288db7682",
   "metadata": {},
   "outputs": [],
   "source": [
    "ggplot(go, showCategory=40,\n",
    "       aes(NES, fct_reorder(Description, NES),\n",
    "           fill=p.adjust)) +\n",
    "  geom_col() +\n",
    "  scale_fill_gradientn(colours=c(\"#b3eebe\",\n",
    "                                 \"#46bac2\", \"#371ea3\"),\n",
    "                       guide=guide_colorbar(reverse=TRUE)) +\n",
    "  theme_dose(12) +\n",
    "  xlab(\"Normalized Enrichment Score\") +\n",
    "  ylab(NULL) +\n",
    "  ggtitle(\"GO: Molecular Function\")"
   ]
  },
  {
   "cell_type": "code",
   "execution_count": null,
   "id": "24ef2027-56ff-4d57-ada5-9f208823fb2c",
   "metadata": {},
   "outputs": [],
   "source": [
    "#gsea plot\n",
    "gseaplot(go, by = \"all\", title = \"DNA Replication Origin Binding\", geneSetID = 38)"
   ]
  },
  {
   "cell_type": "code",
   "execution_count": null,
   "id": "f951c2ce-9c8e-47bd-ab4b-ea006838e2f0",
   "metadata": {},
   "outputs": [],
   "source": [
    "# cnet plot for visualizing gene networks\n",
    "cnetplot(go, categorySize=\"pvalue\", color.params = list(foldChange=geneList), showCategory = c(\"GOMF_DNA_REPLICATION_ORIGIN_BINDING\"))"
   ]
  },
  {
   "cell_type": "code",
   "execution_count": null,
   "id": "21c45bba-d1a8-4f6e-8ee6-ea1d220b2874",
   "metadata": {},
   "outputs": [],
   "source": [
    "c4_t2g <- msigdbr(species = \"Homo sapiens\", category = \"C4\", subcategory = \"CGN\") %>%\n",
    "  dplyr::select(gs_name, entrez_gene)\n",
    "c4 <- GSEA(geneList, TERM2GENE = c4_t2g)\n",
    "\n",
    "c4 <- setReadable(c4, 'org.Hs.eg.db', 'ENTREZID')\n",
    "\n",
    "#plots\n",
    "ggplot(c4, showCategory=40,\n",
    "       aes(NES, fct_reorder(Description, NES),\n",
    "           fill=p.adjust)) +\n",
    "  geom_col() +\n",
    "  scale_fill_gradientn(colours=c(\"#b3eebe\",\n",
    "                                 \"#46bac2\", \"#371ea3\"),\n",
    "                       guide=guide_colorbar(reverse=TRUE)) +\n",
    "  theme_dose(12) +\n",
    "  xlab(\"Normalized Enrichment Score\") +\n",
    "  ylab(NULL) +\n",
    "  ggtitle(\"Cancer Gene Networks\")"
   ]
  },
  {
   "cell_type": "code",
   "execution_count": null,
   "id": "b804959c-f71f-430d-a3f4-901ea787ce3e",
   "metadata": {},
   "outputs": [],
   "source": [
    "gseaplot(c4, by = \"all\", title = \"PECAM1 Network\", geneSetID = \"GNF2_PECAM1\")\n",
    "cnetplot(c4, categorySize=\"pvalue\", color.params = list(foldChange=geneList), showCategory = c(\"GNF2_PECAM1\"))"
   ]
  },
  {
   "cell_type": "code",
   "execution_count": null,
   "id": "47d9a45e-d2db-493b-982c-970596330fff",
   "metadata": {},
   "outputs": [],
   "source": [
    "sessionInfo()"
   ]
  }
 ],
 "metadata": {
  "kernelspec": {
   "display_name": "R",
   "language": "R",
   "name": "ir"
  },
  "language_info": {
   "codemirror_mode": "r",
   "file_extension": ".r",
   "mimetype": "text/x-r-source",
   "name": "R",
   "pygments_lexer": "r",
   "version": "4.3.1"
  }
 },
 "nbformat": 4,
 "nbformat_minor": 5
}
