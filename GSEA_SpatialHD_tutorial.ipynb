{
 "cells": [
  {
   "cell_type": "code",
   "execution_count": null,
   "id": "4c96fa8a-d8df-45cf-bc2d-5603890647f7",
   "metadata": {},
   "outputs": [],
   "source": [
    "install.packages(\"remotes\")\n",
    "system(\"apt install libgsl-dev\", intern=TRUE)"
   ]
  },
  {
   "cell_type": "code",
   "execution_count": null,
   "id": "af94c3f4-fcfa-4409-97a4-d9cf297341ac",
   "metadata": {},
   "outputs": [],
   "source": [
    "install.packages(\"devtools\")\n",
    "devtools::install_github(\"paulponcet/lplyr\")"
   ]
  },
  {
   "cell_type": "code",
   "execution_count": null,
   "id": "3f7974bd-b18d-4415-bb32-d89b830d7f8a",
   "metadata": {},
   "outputs": [],
   "source": [
    "if (!requireNamespace(\"BiocManager\", quietly = TRUE))\n",
    "    install.packages(\"BiocManager\")\n",
    "BiocManager::install(version = '3.18',ask = FALSE)"
   ]
  },
  {
   "cell_type": "code",
   "execution_count": null,
   "id": "90510155-6a62-492a-ab9e-fa265527ea38",
   "metadata": {},
   "outputs": [],
   "source": [
    "BiocManager::install(\"clusterProfiler\")\n",
    "BiocManager::install(\"enrichplot\")\n",
    "BiocManager::install(\"ggplot2\")\n",
    "BiocManager::install(\"msigdbr\")\n",
    "BiocManager::install(\"dplyr\")\n",
    "BiocManager::install(\"DOSE\")\n",
    "BiocManager::install(\"forcats\")\n",
    "BiocManager::install(\"AnnotationDbi\")\n",
    "BiocManager::install(\"org.Hs.eg.db\")"
   ]
  }
 ],
 "metadata": {
  "kernelspec": {
   "display_name": "R",
   "language": "R",
   "name": "ir"
  },
  "language_info": {
   "codemirror_mode": "r",
   "file_extension": ".r",
   "mimetype": "text/x-r-source",
   "name": "R",
   "pygments_lexer": "r",
   "version": "4.3.1"
  }
 },
 "nbformat": 4,
 "nbformat_minor": 5
}
