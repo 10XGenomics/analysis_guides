{
  "cells": [
    {
      "cell_type": "markdown",
      "source": [
        "This vignette is part of the workshop: [Hands-on Tour of the Visium Spatial Gene Expression Analysis Journey](https://www.10xgenomics.com/analysis-guides/workshop-visium-hd-analysis)."
      ],
      "metadata": {
        "id": "kiMjxsEcKLOW"
      },
      "id": "kiMjxsEcKLOW"
    },
    {
      "cell_type": "markdown",
      "source": [
        "We will begin by installing the necessary packages."
      ],
      "metadata": {
        "id": "rrtiys7GKimi"
      },
      "id": "rrtiys7GKimi"
    },
    {
      "cell_type": "code",
      "execution_count": null,
      "id": "4c96fa8a-d8df-45cf-bc2d-5603890647f7",
      "metadata": {
        "id": "4c96fa8a-d8df-45cf-bc2d-5603890647f7"
      },
      "outputs": [],
      "source": [
        "install.packages(\"remotes\")\n",
        "install.packages(\"devtools\")\n",
        "system(\"apt install libgsl-dev\", intern=TRUE)\n",
        "devtools::install_github(\"paulponcet/lplyr\")\n",
        "\n",
        "if (!requireNamespace(\"BiocManager\", quietly = TRUE))\n",
        "    install.packages(\"BiocManager\")\n",
        "BiocManager::install(version = '3.19',ask = FALSE)\n",
        "\n",
        "BiocManager::install(\"clusterProfiler\")\n",
        "BiocManager::install(\"enrichplot\")\n",
        "BiocManager::install(\"ggplot2\")\n",
        "BiocManager::install(\"msigdbr\")\n",
        "BiocManager::install(\"dplyr\")\n",
        "BiocManager::install(\"DOSE\")\n",
        "BiocManager::install(\"forcats\")\n",
        "BiocManager::install(\"AnnotationDbi\")\n",
        "BiocManager::install(\"org.Hs.eg.db\")"
      ]
    },
    {
      "cell_type": "markdown",
      "source": [
        "Next, load these required packages into the environment."
      ],
      "metadata": {
        "id": "R8Aq5P_LVohF"
      },
      "id": "R8Aq5P_LVohF"
    },
    {
      "cell_type": "code",
      "execution_count": null,
      "id": "c5eb4dd2-975d-42a6-92a2-7ec0be9cc244",
      "metadata": {
        "id": "c5eb4dd2-975d-42a6-92a2-7ec0be9cc244"
      },
      "outputs": [],
      "source": [
        "library(clusterProfiler)\n",
        "library(enrichplot)\n",
        "library(ggplot2)\n",
        "library(msigdbr)\n",
        "library(dplyr)\n",
        "library(lplyr)\n",
        "library(DOSE)\n",
        "library(forcats)\n",
        "library(AnnotationDbi)\n",
        "library(org.Hs.eg.db)"
      ]
    },
    {
      "cell_type": "markdown",
      "source": [
        "Read the in CSV file containing gene expression information and take a look at the dataframe"
      ],
      "metadata": {
        "id": "o_AAXT23Vtv4"
      },
      "id": "o_AAXT23Vtv4"
    },
    {
      "cell_type": "code",
      "execution_count": null,
      "id": "bcb25e77-3b03-47f8-9acf-d6b3ab3ffb06",
      "metadata": {
        "id": "bcb25e77-3b03-47f8-9acf-d6b3ab3ffb06"
      },
      "outputs": [],
      "source": [
        "download.file(\"https://raw.githubusercontent.com/10XGenomics/analysis_guides/main/Visium_HD_GSEA/ROI_Features.csv\", \"ROI_Features.csv\")\n",
        "df <- read.csv(\"ROI_Features.csv\", header = TRUE)\n",
        "head(df)"
      ]
    },
    {
      "cell_type": "markdown",
      "source": [
        "How many genes are in our list?"
      ],
      "metadata": {
        "id": "OdgUcuSiWAt9"
      },
      "id": "OdgUcuSiWAt9"
    },
    {
      "cell_type": "code",
      "source": [
        "nrow(df)"
      ],
      "metadata": {
        "id": "b0Y7rTiNWGR3"
      },
      "id": "b0Y7rTiNWGR3",
      "execution_count": null,
      "outputs": []
    },
    {
      "cell_type": "markdown",
      "source": [
        "GSEA requires Entrez IDs as input. These are unique integer identifiers for genes from NCBI. We will use AnnotationDbi to find the IDs for each gene symbol in our list and take a look at the top of the data frame to see what it looks like."
      ],
      "metadata": {
        "id": "eykUrzsDVzsP"
      },
      "id": "eykUrzsDVzsP"
    },
    {
      "cell_type": "code",
      "execution_count": null,
      "id": "29f6057b-892c-4137-92d7-c0f4919a21ba",
      "metadata": {
        "id": "29f6057b-892c-4137-92d7-c0f4919a21ba"
      },
      "outputs": [],
      "source": [
        "entrez_data <- AnnotationDbi::select(org.Hs.eg.db, keys = df$SYMBOL,columns = c(\"SYMBOL\", \"ENTREZID\"),keytype = \"SYMBOL\")\n",
        "head(entrez_data)"
      ]
    },
    {
      "cell_type": "markdown",
      "source": [
        "Not every gene symbol has an associated Entrez ID. We will need to remove genes that do not have an Entrez ID (\"NA\") from our input list."
      ],
      "metadata": {
        "id": "9SUMen_8V3UP"
      },
      "id": "9SUMen_8V3UP"
    },
    {
      "cell_type": "code",
      "execution_count": null,
      "id": "34f73b8f-7127-4bda-b1c3-ab096e8187dd",
      "metadata": {
        "id": "34f73b8f-7127-4bda-b1c3-ab096e8187dd"
      },
      "outputs": [],
      "source": [
        "anno_result <- entrez_data %>%\n",
        "  filter(!is.na(ENTREZID)) %>%\n",
        "  inner_join(df, by = \"SYMBOL\",relationship = \"many-to-many\")\n",
        "\n",
        "head(anno_result)"
      ]
    },
    {
      "cell_type": "markdown",
      "source": [
        "How many genes remain after filtering NAs?"
      ],
      "metadata": {
        "id": "pTSbdQA-WirZ"
      },
      "id": "pTSbdQA-WirZ"
    },
    {
      "cell_type": "code",
      "source": [
        "nrow(anno_result)"
      ],
      "metadata": {
        "id": "jITbmxUtWpXq"
      },
      "id": "jITbmxUtWpXq",
      "execution_count": null,
      "outputs": []
    },
    {
      "cell_type": "markdown",
      "source": [
        "The starting gene number was 18,072. So, we removed 437 or ~2% of our gene list due to NAs. This is not a large proportion of our gene list and so we will proceed assuming the list is still representative of our sample.\n",
        "\n",
        "Next, we will turn this data frame into a named vector that has the Entrez ID and associated Log2FC information and sort it largest Log2FC to smallest."
      ],
      "metadata": {
        "id": "73ebQ9gGWsBs"
      },
      "id": "73ebQ9gGWsBs"
    },
    {
      "cell_type": "code",
      "execution_count": null,
      "id": "f117ad53-2f29-4a10-af56-3f93d4fe4799",
      "metadata": {
        "id": "f117ad53-2f29-4a10-af56-3f93d4fe4799"
      },
      "outputs": [],
      "source": [
        "geneList <- with(anno_result, setNames(Log2FC, ENTREZID))\n",
        "geneList <- sort(geneList, decreasing = TRUE)"
      ]
    },
    {
      "cell_type": "markdown",
      "source": [
        "Next, we need to prepare our reference gene sets that we will use for analysis. There are a number of databases available to use. We chose to use a popular one, Gene Ontology: Molecular Function. We can access the gene sets in this database with the msigdbr package from MSigDB. To learn more about the gene sets available through this resource, go to this web page: https://www.gsea-msigdb.org/gsea/msigdb/human/collections.jsp\n",
        "\n",
        "We find there is a database of computational gene sets defined by expression neighborhoods centered around cancer-associated genes. This database is relevant to our data, so we will use this one."
      ],
      "metadata": {
        "id": "OV_XbA9kXWGh"
      },
      "id": "OV_XbA9kXWGh"
    },
    {
      "cell_type": "code",
      "execution_count": null,
      "id": "238af2d3-4b2b-4cef-9ca2-285ee06179b8",
      "metadata": {
        "id": "238af2d3-4b2b-4cef-9ca2-285ee06179b8"
      },
      "outputs": [],
      "source": [
        "c4_t2g <- msigdbr(species = \"Homo sapiens\", category = \"C4\", subcategory = \"CGN\") %>%\n",
        "  dplyr::select(gs_name, entrez_gene)\n",
        "head(c4_t2g)"
      ]
    },
    {
      "cell_type": "markdown",
      "source": [
        "Now that we have our ranked gene list and gene set reference inputs, we can run GSEA."
      ],
      "metadata": {
        "id": "NNu72DrhXl2a"
      },
      "id": "NNu72DrhXl2a"
    },
    {
      "cell_type": "code",
      "execution_count": null,
      "id": "ec7b98ee-f31d-49f9-8e8b-ed521e014928",
      "metadata": {
        "id": "ec7b98ee-f31d-49f9-8e8b-ed521e014928"
      },
      "outputs": [],
      "source": [
        "c4 <- GSEA(geneList, TERM2GENE = c4_t2g)\n",
        "c4"
      ]
    },
    {
      "cell_type": "markdown",
      "source": [
        "The gene information is stored as Entrez ID, so we need to add the gene symbols into the c4 object to be able to interpret the results better. We will also put our results into a dataframe so they are easier to navigate."
      ],
      "metadata": {
        "id": "crOga1hPXs5m"
      },
      "id": "crOga1hPXs5m"
    },
    {
      "cell_type": "code",
      "execution_count": null,
      "id": "5602a474-a7ff-4f5d-8b5e-3b42d6717810",
      "metadata": {
        "id": "5602a474-a7ff-4f5d-8b5e-3b42d6717810"
      },
      "outputs": [],
      "source": [
        "c4 <- setReadable(c4, 'org.Hs.eg.db', 'ENTREZID')\n",
        "c4_df <- c4@result"
      ]
    },
    {
      "cell_type": "markdown",
      "source": [
        "Our analysis is complete and stored in an object we called “c4”. There were ~170-180 enriched terms found in our data. Results may vary slightly due to random seeding.\n",
        "\n",
        "We can use the object storing the results to generate some plots of our results. First, we will take a look at the overall summary results. We can visualize the top 10 gene sets that were up-regulated (activated in microenvironment), meaning these gene sets were enriched at the top of our list, where up-regulated genes were located. And we will also visualize the top 10 gene sets that were down-regulated (suppressed in microenvironment), meaning these gene sets were enriched at the bottom of our list, where down-regulated genes were located."
      ],
      "metadata": {
        "id": "e5uIDiG5X0EI"
      },
      "id": "e5uIDiG5X0EI"
    },
    {
      "cell_type": "code",
      "execution_count": null,
      "id": "bfa01284-d7f0-4e68-9617-eede3deb9bb3",
      "metadata": {
        "id": "bfa01284-d7f0-4e68-9617-eede3deb9bb3"
      },
      "outputs": [],
      "source": [
        "#set plot size\n",
        "options(repr.plot.width=10, repr.plot.height=6)\n",
        "\n",
        "#sort data and assign to \"activated\" or \"suppressed\" groups based on NES\n",
        "sorted_c4<- c4@result[order(c4@result$NES, decreasing = F),]\n",
        "sorted_c4$color<-ifelse(sorted_c4$NES<0, \"Enriched in tumor\", \"Enriched in TME\")\n",
        "\n",
        "#plot results\n",
        "sorted_c4 %>%\n",
        "  dplyr::group_by(color) %>%\n",
        "  dplyr::arrange(desc(abs(NES))) %>%\n",
        "  slice_head(n = 10) %>%\n",
        "  ggplot(aes(x = NES, y = reorder(Description, NES), fill = color)) +\n",
        "  geom_bar(stat = \"identity\") +\n",
        "  geom_vline(xintercept = 0) +\n",
        "  labs(y = \"Description\") +\n",
        "  theme_classic() +\n",
        "  scale_fill_manual(values=c(\"#ffa557\", \"#4296f5\")) +\n",
        "  theme(legend.position = \"right\")\n",
        "\n",
        "#save a publicaiton-quality version of the plot\n",
        "ggsave(\"go_barplot.pdf\",\n",
        "        dpi = 600,\n",
        "        width = 30, height = 15, unit = \"cm\")"
      ]
    },
    {
      "cell_type": "markdown",
      "source": [
        "Next, we can select one of these gene sets to explore more in-depth.\n",
        "\n",
        "\n",
        "The database we are using organizes the gene pathways into sets of genes centered around known cancer-related genes. We will need to make use of the GSEA website to understand what each gene set is.\n",
        "\n",
        "For example, looking into one of the modules enriched in the microenvironment region, [GNF2_PECAM1](https://www.gsea-msigdb.org/gsea/msigdb/human/geneset/GNF2_PECAM1.html), we can learn more about it. First, we can take a look at the full list of genes in this gene set.\n",
        "\n",
        "Based on the literature, we may find promising cancer treatment targets by looking at the genes in this gene set. We can generate a GSEA plot and a cnet plot for this module to evaluate the full set of genes in our data:"
      ],
      "metadata": {
        "id": "cUVHHiLiaYG3"
      },
      "id": "cUVHHiLiaYG3"
    },
    {
      "cell_type": "code",
      "execution_count": null,
      "id": "24ef2027-56ff-4d57-ada5-9f208823fb2c",
      "metadata": {
        "id": "24ef2027-56ff-4d57-ada5-9f208823fb2c"
      },
      "outputs": [],
      "source": [
        "#re-set plot size\n",
        "options(repr.plot.width=8, repr.plot.height=6)\n",
        "\n",
        "#gsea plot\n",
        "gseaplot(c4, by = \"all\", title = \"PECAM1 Network\", geneSetID = \"GNF2_PECAM1\")"
      ]
    },
    {
      "cell_type": "markdown",
      "source": [
        "And pull out the NES and adjusted p-value associated with this enriched set."
      ],
      "metadata": {
        "id": "eT3cILr0a9Un"
      },
      "id": "eT3cILr0a9Un"
    },
    {
      "cell_type": "code",
      "source": [
        "c4_df[\"GNF2_PECAM1\",]"
      ],
      "metadata": {
        "id": "5Y4Dce_-bBKB"
      },
      "id": "5Y4Dce_-bBKB",
      "execution_count": null,
      "outputs": []
    },
    {
      "cell_type": "markdown",
      "source": [
        "Of the 56 genes in this PECAM1 Gene Set, 33 were detected in our experiment. We can visualize the expression of these genes relative to the tumor region in the cnet plot below:\n"
      ],
      "metadata": {
        "id": "PIqQnq_ycJ-6"
      },
      "id": "PIqQnq_ycJ-6"
    },
    {
      "cell_type": "code",
      "source": [
        "cnetplot(c4, categorySize=\"pvalue\", color.params = list(foldChange=geneList), showCategory = c(\"GNF2_PECAM1\"))"
      ],
      "metadata": {
        "id": "oiL1Ih0ucPN4"
      },
      "id": "oiL1Ih0ucPN4",
      "execution_count": null,
      "outputs": []
    },
    {
      "cell_type": "markdown",
      "source": [
        "Platelet endothelial cell adhesion molecule (PECAM-1) is a cell-cell adhesion protein found on endothelial cells, platelets, macrophages and Kupffer cells, granulocytes, lymphocytes (T cells, B cells, and NK cells), megakaryocytes, and osteoclasts.Going to the literature, this gene has been studied in the cancer field. Specifically, [one study](https://doi.org/10.1073/pnas.1004654107) found that PECAM-1 in the tumor microenvironment drives advanced metastatic progression of tumor cells. [Another](https://doi.org/10.1023/A:1009092107382) found that an antibody against murine PECAM-1 inhibits tumor angiogenesis in mice.\n",
        "\n",
        "We may find promising cancer treatment targets by looking at the genes in this gene set. The PECAM1 neighborhood identified with GSEA may represent a network of genes that are involved in regulation of the the tumor microenvironment to make the area more susceptible to tumor invasion. These genes may be worth investigating in future studies and specifically targeting in future cancer treatment development. The last thing we will do is go back to Loupe Browser to visualize the expression of these genes in our tissue."
      ],
      "metadata": {
        "id": "qwHysLNacT0b"
      },
      "id": "qwHysLNacT0b"
    },
    {
      "cell_type": "code",
      "execution_count": null,
      "id": "47d9a45e-d2db-493b-982c-970596330fff",
      "metadata": {
        "id": "47d9a45e-d2db-493b-982c-970596330fff"
      },
      "outputs": [],
      "source": [
        "sessionInfo()"
      ]
    }
  ],
  "metadata": {
    "kernelspec": {
      "display_name": "R",
      "language": "R",
      "name": "ir"
    },
    "language_info": {
      "codemirror_mode": "r",
      "file_extension": ".r",
      "mimetype": "text/x-r-source",
      "name": "R",
      "pygments_lexer": "r",
      "version": "4.3.1"
    },
    "colab": {
      "provenance": []
    }
  },
  "nbformat": 4,
  "nbformat_minor": 5
}
