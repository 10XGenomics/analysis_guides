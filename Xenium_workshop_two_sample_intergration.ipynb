{
  "nbformat": 4,
  "nbformat_minor": 0,
  "metadata": {
    "colab": {
      "provenance": []
    },
    "kernelspec": {
      "name": "python3",
      "display_name": "Python 3"
    },
    "language_info": {
      "name": "python"
    }
  },
  "cells": [
    {
      "cell_type": "markdown",
      "metadata": {
        "id": "R2-c1O3_sl5V"
      },
      "source": [
        "# Integrate two Xenium samples using Python\n",
        "\n",
        "**This vignette is part of [The Xenium In Situ Gene Expression Data Analysis Workshop](https://www.10xgenomics.com/analysis-guides/workshop-xenium-in-situ-analysis)**\n",
        "\n",
        "\n",
        "How to use this Google Colab\n",
        "\n",
        "\n",
        "- Select Python as the programming language: Click “Runtime”, then ensure “Runtime type” is set to “Python”. We recommend selecting “v2-8 TPU” for this Google Colab tutorial. There could be TPU usage [limit](https://research.google.com/colaboratory/faq.html#usage-limits).\n",
        "- Click the “Connect” button on the top-right corner. Now, you are ready to run the tutorial.\n",
        "- You can run the analysis using the data we provided in the code. Alternatively, you can also load your own data.\n",
        "\n",
        "*Note: If you have other colab sessions open, we recommend closing other sessions before starting this one to avoid interruption. To close other sessions, go to `Runtime` -> `Manage Sessions`*\n"
      ]
    },
    {
      "cell_type": "markdown",
      "source": [
        "Content coming soon!"
      ],
      "metadata": {
        "id": "4xXwWyDGD6Oh"
      }
    }
  ]
}